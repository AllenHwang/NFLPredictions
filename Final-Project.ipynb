{
 "cells": [
  {
   "cell_type": "markdown",
   "metadata": {},
   "source": [
    "# EE 379K Final Project\n",
    "Rahul Jain, Keyur Muzumdar, Aditya Kharosekar"
   ]
  },
  {
   "cell_type": "code",
   "execution_count": 21,
   "metadata": {
    "collapsed": false
   },
   "outputs": [],
   "source": [
    "import pandas as pd\n",
    "import numpy as np\n",
    "import matplotlib.pyplot as plt\n",
    "%matplotlib inline\n",
    "import random\n",
    "\n",
    "from sklearn.model_selection import train_test_split\n",
    "from sklearn.linear_model import RidgeClassifier\n",
    "from sklearn.preprocessing import PolynomialFeatures, OneHotEncoder\n",
    "from sklearn.neighbors import KNeighborsClassifier\n",
    "from sklearn.metrics import accuracy_score, confusion_matrix\n",
    "from sklearn.ensemble import RandomForestClassifier\n",
    "import xgboost\n",
    "from sklearn.decomposition import PCA"
   ]
  },
  {
   "cell_type": "code",
   "execution_count": 35,
   "metadata": {
    "collapsed": false
   },
   "outputs": [
    {
     "name": "stderr",
     "output_type": "stream",
     "text": [
      "C:\\Users\\Aditya Kharosekar\\Anaconda3\\lib\\site-packages\\IPython\\core\\interactiveshell.py:2717: DtypeWarning: Columns (26) have mixed types. Specify dtype option on import or set low_memory=False.\n",
      "  interactivity=interactivity, compiler=compiler, result=result)\n"
     ]
    }
   ],
   "source": [
    "df = pd.read_csv('NFLPlaybyPlay2015.csv')"
   ]
  },
  {
   "cell_type": "code",
   "execution_count": 36,
   "metadata": {
    "collapsed": false
   },
   "outputs": [
    {
     "data": {
      "text/plain": [
       "(46129, 66)"
      ]
     },
     "execution_count": 36,
     "metadata": {},
     "output_type": "execute_result"
    }
   ],
   "source": [
    "df.shape"
   ]
  },
  {
   "cell_type": "markdown",
   "metadata": {},
   "source": [
    "In the PlayType column, there are some instances of KickOffs, Two Minute warning, and other plays which are not relevant to us. I will only keep the plays which we will need."
   ]
  },
  {
   "cell_type": "code",
   "execution_count": 37,
   "metadata": {
    "collapsed": false
   },
   "outputs": [],
   "source": [
    "df['PlayType'].replace(\n",
    "    to_replace = 'Sack',\n",
    "    value='Pass',\n",
    "    inplace=True\n",
    ")\n",
    "relevantPlays = ['Run', 'Pass', 'Punt', 'Field Goal', 'QB Kneel','Kickoff', 'Onside Kick']\n",
    "df = df.loc[df['PlayType'].isin(relevantPlays)]"
   ]
  },
  {
   "cell_type": "code",
   "execution_count": 38,
   "metadata": {
    "collapsed": false
   },
   "outputs": [
    {
     "data": {
      "text/plain": [
       "(39111, 66)"
      ]
     },
     "execution_count": 38,
     "metadata": {},
     "output_type": "execute_result"
    }
   ],
   "source": [
    "df.shape"
   ]
  },
  {
   "cell_type": "code",
   "execution_count": 39,
   "metadata": {
    "collapsed": false
   },
   "outputs": [
    {
     "data": {
      "text/plain": [
       "(39090, 66)"
      ]
     },
     "execution_count": 39,
     "metadata": {},
     "output_type": "execute_result"
    }
   ],
   "source": [
    "df = df.dropna(subset = ['posteam'])\n",
    "df.shape"
   ]
  },
  {
   "cell_type": "code",
   "execution_count": 40,
   "metadata": {
    "collapsed": false,
    "scrolled": true
   },
   "outputs": [],
   "source": [
    "pass_tendencies = {}\n",
    "\n",
    "#Source: https://www.teamrankings.com/nfl/stat/passing-play-pct?date=2016-02-08\n",
    "pass_tendencies['ARI'] = 58.16\n",
    "pass_tendencies['ATL'] = 60.8\n",
    "pass_tendencies['BAL'] = 64.64\n",
    "pass_tendencies['BUF'] = 49.90\n",
    "pass_tendencies['CAR'] = 50.16\n",
    "pass_tendencies['CHI'] = 54.30\n",
    "pass_tendencies['CIN'] = 54.2\n",
    "pass_tendencies['CLE'] = 63.53\n",
    "pass_tendencies['DAL'] = 57.94\n",
    "pass_tendencies['DEN'] = 59.78\n",
    "pass_tendencies['DET'] = 65.63\n",
    "pass_tendencies['GB'] = 58.89\n",
    "pass_tendencies['HOU'] = 58.20\n",
    "pass_tendencies['IND'] = 62.36\n",
    "pass_tendencies['JAC'] = 65.02\n",
    "pass_tendencies['KC'] = 54.09\n",
    "pass_tendencies['MIA'] = 64.79\n",
    "pass_tendencies['MIN'] = 51.12\n",
    "pass_tendencies['NE'] = 65.00\n",
    "pass_tendencies['NO'] = 63.78\n",
    "pass_tendencies['NYG'] = 61.73\n",
    "pass_tendencies['NYJ'] = 58.29\n",
    "pass_tendencies['OAK'] = 63.33\n",
    "pass_tendencies['PHI'] = 59.84\n",
    "pass_tendencies['PIT'] = 61.72\n",
    "pass_tendencies['SD'] = 64.27\n",
    "pass_tendencies['SEA'] = 53.29\n",
    "pass_tendencies['SF'] = 59.75\n",
    "pass_tendencies['STL'] = 53.37\n",
    "pass_tendencies['TB'] = 55.32\n",
    "pass_tendencies['TEN'] = 61.99\n",
    "pass_tendencies['WAS'] = 58.65"
   ]
  },
  {
   "cell_type": "code",
   "execution_count": 41,
   "metadata": {
    "collapsed": false
   },
   "outputs": [],
   "source": [
    "posteam = df['posteam']\n",
    "pass_ratio = []\n",
    "for team in posteam:\n",
    "    pass_ratio.append(pass_tendencies[team])\n",
    "\n",
    "df['PassRatio'] = pass_ratio"
   ]
  },
  {
   "cell_type": "code",
   "execution_count": 42,
   "metadata": {
    "collapsed": false
   },
   "outputs": [
    {
     "data": {
      "text/html": [
       "<div>\n",
       "<table border=\"1\" class=\"dataframe\">\n",
       "  <thead>\n",
       "    <tr style=\"text-align: right;\">\n",
       "      <th></th>\n",
       "      <th>Date</th>\n",
       "      <th>GameID</th>\n",
       "      <th>Drive</th>\n",
       "      <th>qtr</th>\n",
       "      <th>down</th>\n",
       "      <th>time</th>\n",
       "      <th>TimeUnder</th>\n",
       "      <th>TimeSecs</th>\n",
       "      <th>PlayTimeDiff</th>\n",
       "      <th>SideofField</th>\n",
       "      <th>...</th>\n",
       "      <th>PenalizedTeam</th>\n",
       "      <th>PenaltyType</th>\n",
       "      <th>PenalizedPlayer</th>\n",
       "      <th>Penalty.Yards</th>\n",
       "      <th>PosTeamScore</th>\n",
       "      <th>DefTeamScore</th>\n",
       "      <th>ScoreDiff</th>\n",
       "      <th>AbsScoreDiff</th>\n",
       "      <th>Season</th>\n",
       "      <th>PassRatio</th>\n",
       "    </tr>\n",
       "  </thead>\n",
       "  <tbody>\n",
       "    <tr>\n",
       "      <th>0</th>\n",
       "      <td>2015-09-10</td>\n",
       "      <td>2015091000</td>\n",
       "      <td>1</td>\n",
       "      <td>1</td>\n",
       "      <td>NaN</td>\n",
       "      <td>15:00</td>\n",
       "      <td>15</td>\n",
       "      <td>3600.0</td>\n",
       "      <td>0.0</td>\n",
       "      <td>NE</td>\n",
       "      <td>...</td>\n",
       "      <td>NaN</td>\n",
       "      <td>NaN</td>\n",
       "      <td>NaN</td>\n",
       "      <td>0</td>\n",
       "      <td>0.0</td>\n",
       "      <td>0.0</td>\n",
       "      <td>0.0</td>\n",
       "      <td>0.0</td>\n",
       "      <td>2015</td>\n",
       "      <td>61.72</td>\n",
       "    </tr>\n",
       "    <tr>\n",
       "      <th>1</th>\n",
       "      <td>2015-09-10</td>\n",
       "      <td>2015091000</td>\n",
       "      <td>1</td>\n",
       "      <td>1</td>\n",
       "      <td>1.0</td>\n",
       "      <td>15:00</td>\n",
       "      <td>15</td>\n",
       "      <td>3600.0</td>\n",
       "      <td>0.0</td>\n",
       "      <td>PIT</td>\n",
       "      <td>...</td>\n",
       "      <td>NaN</td>\n",
       "      <td>NaN</td>\n",
       "      <td>NaN</td>\n",
       "      <td>0</td>\n",
       "      <td>0.0</td>\n",
       "      <td>0.0</td>\n",
       "      <td>0.0</td>\n",
       "      <td>0.0</td>\n",
       "      <td>2015</td>\n",
       "      <td>61.72</td>\n",
       "    </tr>\n",
       "    <tr>\n",
       "      <th>2</th>\n",
       "      <td>2015-09-10</td>\n",
       "      <td>2015091000</td>\n",
       "      <td>1</td>\n",
       "      <td>1</td>\n",
       "      <td>1.0</td>\n",
       "      <td>14:21</td>\n",
       "      <td>15</td>\n",
       "      <td>3561.0</td>\n",
       "      <td>39.0</td>\n",
       "      <td>PIT</td>\n",
       "      <td>...</td>\n",
       "      <td>NaN</td>\n",
       "      <td>NaN</td>\n",
       "      <td>NaN</td>\n",
       "      <td>0</td>\n",
       "      <td>0.0</td>\n",
       "      <td>0.0</td>\n",
       "      <td>0.0</td>\n",
       "      <td>0.0</td>\n",
       "      <td>2015</td>\n",
       "      <td>61.72</td>\n",
       "    </tr>\n",
       "    <tr>\n",
       "      <th>3</th>\n",
       "      <td>2015-09-10</td>\n",
       "      <td>2015091000</td>\n",
       "      <td>1</td>\n",
       "      <td>1</td>\n",
       "      <td>2.0</td>\n",
       "      <td>14:04</td>\n",
       "      <td>15</td>\n",
       "      <td>3544.0</td>\n",
       "      <td>17.0</td>\n",
       "      <td>PIT</td>\n",
       "      <td>...</td>\n",
       "      <td>NaN</td>\n",
       "      <td>NaN</td>\n",
       "      <td>NaN</td>\n",
       "      <td>0</td>\n",
       "      <td>0.0</td>\n",
       "      <td>0.0</td>\n",
       "      <td>0.0</td>\n",
       "      <td>0.0</td>\n",
       "      <td>2015</td>\n",
       "      <td>61.72</td>\n",
       "    </tr>\n",
       "    <tr>\n",
       "      <th>4</th>\n",
       "      <td>2015-09-10</td>\n",
       "      <td>2015091000</td>\n",
       "      <td>1</td>\n",
       "      <td>1</td>\n",
       "      <td>1.0</td>\n",
       "      <td>13:26</td>\n",
       "      <td>14</td>\n",
       "      <td>3506.0</td>\n",
       "      <td>38.0</td>\n",
       "      <td>NE</td>\n",
       "      <td>...</td>\n",
       "      <td>NaN</td>\n",
       "      <td>NaN</td>\n",
       "      <td>NaN</td>\n",
       "      <td>0</td>\n",
       "      <td>0.0</td>\n",
       "      <td>0.0</td>\n",
       "      <td>0.0</td>\n",
       "      <td>0.0</td>\n",
       "      <td>2015</td>\n",
       "      <td>61.72</td>\n",
       "    </tr>\n",
       "  </tbody>\n",
       "</table>\n",
       "<p>5 rows × 66 columns</p>\n",
       "</div>"
      ],
      "text/plain": [
       "         Date      GameID  Drive  qtr  down   time  TimeUnder  TimeSecs  \\\n",
       "0  2015-09-10  2015091000      1    1   NaN  15:00         15    3600.0   \n",
       "1  2015-09-10  2015091000      1    1   1.0  15:00         15    3600.0   \n",
       "2  2015-09-10  2015091000      1    1   1.0  14:21         15    3561.0   \n",
       "3  2015-09-10  2015091000      1    1   2.0  14:04         15    3544.0   \n",
       "4  2015-09-10  2015091000      1    1   1.0  13:26         14    3506.0   \n",
       "\n",
       "   PlayTimeDiff SideofField    ...      PenalizedTeam  PenaltyType  \\\n",
       "0           0.0          NE    ...                NaN          NaN   \n",
       "1           0.0         PIT    ...                NaN          NaN   \n",
       "2          39.0         PIT    ...                NaN          NaN   \n",
       "3          17.0         PIT    ...                NaN          NaN   \n",
       "4          38.0          NE    ...                NaN          NaN   \n",
       "\n",
       "   PenalizedPlayer  Penalty.Yards  PosTeamScore  DefTeamScore ScoreDiff  \\\n",
       "0              NaN              0           0.0           0.0       0.0   \n",
       "1              NaN              0           0.0           0.0       0.0   \n",
       "2              NaN              0           0.0           0.0       0.0   \n",
       "3              NaN              0           0.0           0.0       0.0   \n",
       "4              NaN              0           0.0           0.0       0.0   \n",
       "\n",
       "  AbsScoreDiff Season  PassRatio  \n",
       "0          0.0   2015      61.72  \n",
       "1          0.0   2015      61.72  \n",
       "2          0.0   2015      61.72  \n",
       "3          0.0   2015      61.72  \n",
       "4          0.0   2015      61.72  \n",
       "\n",
       "[5 rows x 66 columns]"
      ]
     },
     "execution_count": 42,
     "metadata": {},
     "output_type": "execute_result"
    }
   ],
   "source": [
    "df = df.loc[:, 'Date':]\n",
    "df.head()"
   ]
  },
  {
   "cell_type": "code",
   "execution_count": 43,
   "metadata": {
    "collapsed": true
   },
   "outputs": [],
   "source": [
    "plays = df['PlayType']\n",
    "isKick = []\n",
    "for play in plays:\n",
    "    if play=='Kickoff' or play=='Onside Kick':\n",
    "        isKick = 1\n",
    "    else:\n",
    "        isKick = 0\n",
    "df['isKick'] = isKick"
   ]
  },
  {
   "cell_type": "code",
   "execution_count": 44,
   "metadata": {
    "collapsed": false
   },
   "outputs": [
    {
     "name": "stdout",
     "output_type": "stream",
     "text": [
      "Number of  Run  plays : 13088\n",
      "Number of  Pass  plays : 19514\n",
      "Number of  Punt  plays : 2443\n",
      "Number of  Field Goal  plays : 988\n",
      "Number of  QB Kneel  plays : 425\n",
      "Number of  Kickoff  plays : 2565\n",
      "Number of  Onside Kick  plays : 67\n"
     ]
    }
   ],
   "source": [
    "for play in relevantPlays:\n",
    "    df2 = df.loc[df['PlayType']==play]\n",
    "    print(\"Number of \", play, \" plays :\", df2.shape[0])"
   ]
  },
  {
   "cell_type": "code",
   "execution_count": 45,
   "metadata": {
    "collapsed": true
   },
   "outputs": [],
   "source": [
    "X = df.drop('PlayType', 1)\n",
    "y = df['PlayType']\n",
    "\n",
    "X_train, X_test, y_train, y_test = train_test_split(X, y, test_size = 0.35)"
   ]
  },
  {
   "cell_type": "markdown",
   "metadata": {},
   "source": [
    "## A very, very naive baseline model\n",
    "Idea: Find the counts of each play in the train set. Predict each play in the test set based on the proportion of each play in the training set.\n",
    "Important assumption - Our train and test sets have roughly the same probability of each play. if we don't improve on this stupid-ass model(which doesn't even use X_train and X_test) we should just drop out. But at the same time, a good reference point"
   ]
  },
  {
   "cell_type": "code",
   "execution_count": 46,
   "metadata": {
    "collapsed": false
   },
   "outputs": [
    {
     "name": "stdout",
     "output_type": "stream",
     "text": [
      "Number of  Run  plays : 8446\n",
      "Number of  Pass  plays : 12749\n",
      "Number of  Punt  plays : 1574\n",
      "Number of  Field Goal  plays : 648\n",
      "Number of  QB Kneel  plays : 271\n",
      "Number of  Kickoff  plays : 1676\n",
      "Number of  Onside Kick  plays : 44\n"
     ]
    }
   ],
   "source": [
    "for play in relevantPlays:\n",
    "    df2 = y_train.loc[y_train==play]\n",
    "    print(\"Number of \", play, \" plays :\", df2.shape[0])"
   ]
  },
  {
   "cell_type": "code",
   "execution_count": 47,
   "metadata": {
    "collapsed": true
   },
   "outputs": [],
   "source": [
    "probs = []\n",
    "for play in relevantPlays:\n",
    "    df2 = y_train.loc[y_train==play]\n",
    "    probs.append(df2.shape[0] / y_train.shape[0])"
   ]
  },
  {
   "cell_type": "code",
   "execution_count": 48,
   "metadata": {
    "collapsed": false
   },
   "outputs": [
    {
     "data": {
      "text/plain": [
       "[0.33241498740554154,\n",
       " 0.5017710957178841,\n",
       " 0.061948992443324934,\n",
       " 0.025503778337531487,\n",
       " 0.010665931989924434,\n",
       " 0.06596347607052896,\n",
       " 0.0017317380352644836]"
      ]
     },
     "execution_count": 48,
     "metadata": {},
     "output_type": "execute_result"
    }
   ],
   "source": [
    "probs"
   ]
  },
  {
   "cell_type": "code",
   "execution_count": 49,
   "metadata": {
    "collapsed": false
   },
   "outputs": [],
   "source": [
    "cumulative_probs = []\n",
    "running_sum = 0.0\n",
    "for i in range(0, len(relevantPlays)):\n",
    "    running_sum = running_sum + probs[i]\n",
    "    cumulative_probs.append(running_sum)"
   ]
  },
  {
   "cell_type": "code",
   "execution_count": 50,
   "metadata": {
    "collapsed": false
   },
   "outputs": [
    {
     "data": {
      "text/plain": [
       "[0.33241498740554154,\n",
       " 0.8341860831234257,\n",
       " 0.8961350755667506,\n",
       " 0.9216388539042821,\n",
       " 0.9323047858942065,\n",
       " 0.9982682619647355,\n",
       " 1.0]"
      ]
     },
     "execution_count": 50,
     "metadata": {},
     "output_type": "execute_result"
    }
   ],
   "source": [
    "cumulative_probs"
   ]
  },
  {
   "cell_type": "code",
   "execution_count": 51,
   "metadata": {
    "collapsed": false
   },
   "outputs": [],
   "source": [
    "test= []\n",
    "#print (df.PlayType)\n",
    "for i, row in df.iterrows():\n",
    "    s = np.random.uniform(0,1,1)\n",
    "    if(s< cumulative_probs[0]):\n",
    "        test.append(\"Run\")\n",
    "    elif(s< cumulative_probs[1]):\n",
    "        test.append(\"Pass\")\n",
    "    elif(s<cumulative_probs[2]): \n",
    "        test.append(\"Punt\")\n",
    "    elif(s <cumulative_probs[3]):\n",
    "        test.append(\"Field Goal\")\n",
    "    elif(s <cumulative_probs[4]):\n",
    "        test.append(\"QB Kneel\")\n",
    "    elif(s <cumulative_probs[5]):\n",
    "        test.append(\"Spike\")\n",
    "    elif(s <1):\n",
    "        test.append(\"Onside Kick\")"
   ]
  },
  {
   "cell_type": "code",
   "execution_count": 52,
   "metadata": {
    "collapsed": false
   },
   "outputs": [
    {
     "data": {
      "text/plain": [
       "(39090, 67)"
      ]
     },
     "execution_count": 52,
     "metadata": {},
     "output_type": "execute_result"
    }
   ],
   "source": [
    "df.shape"
   ]
  },
  {
   "cell_type": "code",
   "execution_count": 53,
   "metadata": {
    "collapsed": false
   },
   "outputs": [
    {
     "name": "stdout",
     "output_type": "stream",
     "text": [
      "0.36525965720133025\n"
     ]
    }
   ],
   "source": [
    "correct = 0\n",
    "index2 = 0\n",
    "for index, row in df.iterrows(): \n",
    "    #print(index, df.PlayType[index])\n",
    "    if(df.PlayType[index] == test[index2]):\n",
    "        correct += 1\n",
    "    index2 += 1\n",
    "print(correct/ len(test))"
   ]
  },
  {
   "cell_type": "markdown",
   "metadata": {},
   "source": [
    "This probabilistic baseline model correctly predicts the type of play around 36% of the time.\n",
    "\n",
    "Another baseline model, which always predicts a pass play, will be correct about 51.8% of the time."
   ]
  },
  {
   "cell_type": "markdown",
   "metadata": {
    "collapsed": true
   },
   "source": [
    "### Some feature engineering\n",
    "\n",
    "First, I will create a column that tells us whether a team is in or near field goal range.\n",
    "It will have the following values - 1 if team in possession is in field goal range(within opposition's 38 yard line), 2 if team is close to field goal range(within 5 yards of getting into field goal range), 3 if team is further back."
   ]
  },
  {
   "cell_type": "code",
   "execution_count": 54,
   "metadata": {
    "collapsed": true
   },
   "outputs": [],
   "source": [
    "fieldPosition = df['yrdline100']\n",
    "field_goal_range = []\n",
    "for yards in fieldPosition:\n",
    "    if yards > 42:\n",
    "        field_goal_range.append(3)\n",
    "    elif yards <= 42 and yards > 37:\n",
    "        field_goal_range.append(2)\n",
    "    else:\n",
    "        field_goal_range.append(1)\n",
    "\n",
    "df['FieldGoalRange'] = field_goal_range"
   ]
  },
  {
   "cell_type": "markdown",
   "metadata": {},
   "source": [
    "Now I will create a categorical feature describing the distance to the first down marker for each play.\n",
    "This feature, DistanceToFirst, will take on one of the following values - \n",
    "If short (<4 yards till first down marker) - 1,\n",
    "If medium (4-7 yards till first down marker) - 2,\n",
    "If long(8+ yards) - 3"
   ]
  },
  {
   "cell_type": "code",
   "execution_count": 55,
   "metadata": {
    "collapsed": false
   },
   "outputs": [],
   "source": [
    "yardstogo = df['ydstogo']\n",
    "plays = []\n",
    "for yards in yardstogo:\n",
    "    if yards >=8: #long yardage situation\n",
    "        plays.append(3)\n",
    "    elif yards >=4 and yards <=7: #medium yardage\n",
    "        plays.append(2)\n",
    "    else: #short yardage\n",
    "        plays.append(1)\n",
    "        \n",
    "df['DistanceToFirst'] = plays"
   ]
  },
  {
   "cell_type": "code",
   "execution_count": 56,
   "metadata": {
    "collapsed": false
   },
   "outputs": [],
   "source": [
    "lastplay = []\n",
    "indices = []\n",
    "lastPlayScore = [] \n",
    "i = 0\n",
    "for index, range in df.iterrows(): \n",
    "    x = \"N/A\"\n",
    "    score = 0\n",
    "    indices.sort(reverse=True)\n",
    "    for ind in indices: \n",
    "        if df.posteam[ind] == df.posteam[index] and df.GameID[ind] == df.GameID[index]:\n",
    "            x = (df.PlayType[ind])\n",
    "            break\n",
    "    if(x == \"N/A\"):\n",
    "        s = np.random.uniform(0,1,1)\n",
    "        if(s<df.PassRatio[index]):\n",
    "            x= \"Pass\"\n",
    "        else:\n",
    "            x = \"Run\"\n",
    "    if(len(indices) > 0 ): \n",
    "        if(df.Touchdown[indices[0]] == 1 or df.FieldGoalResult[indices[0]] == 'Good'):\n",
    "            score = 1 \n",
    "    lastPlayScore.append(score)\n",
    "    indices.append(index)\n",
    "    lastplay.append(x)"
   ]
  },
  {
   "cell_type": "code",
   "execution_count": 57,
   "metadata": {
    "collapsed": false
   },
   "outputs": [
    {
     "data": {
      "text/html": [
       "<div>\n",
       "<table border=\"1\" class=\"dataframe\">\n",
       "  <thead>\n",
       "    <tr style=\"text-align: right;\">\n",
       "      <th></th>\n",
       "      <th>Date</th>\n",
       "      <th>GameID</th>\n",
       "      <th>Drive</th>\n",
       "      <th>qtr</th>\n",
       "      <th>down</th>\n",
       "      <th>time</th>\n",
       "      <th>TimeUnder</th>\n",
       "      <th>TimeSecs</th>\n",
       "      <th>PlayTimeDiff</th>\n",
       "      <th>SideofField</th>\n",
       "      <th>...</th>\n",
       "      <th>DefTeamScore</th>\n",
       "      <th>ScoreDiff</th>\n",
       "      <th>AbsScoreDiff</th>\n",
       "      <th>Season</th>\n",
       "      <th>PassRatio</th>\n",
       "      <th>isKick</th>\n",
       "      <th>FieldGoalRange</th>\n",
       "      <th>DistanceToFirst</th>\n",
       "      <th>LastPlay</th>\n",
       "      <th>LastPlayScore</th>\n",
       "    </tr>\n",
       "  </thead>\n",
       "  <tbody>\n",
       "    <tr>\n",
       "      <th>0</th>\n",
       "      <td>2015-09-10</td>\n",
       "      <td>2015091000</td>\n",
       "      <td>1</td>\n",
       "      <td>1</td>\n",
       "      <td>NaN</td>\n",
       "      <td>15:00</td>\n",
       "      <td>15</td>\n",
       "      <td>3600.0</td>\n",
       "      <td>0.0</td>\n",
       "      <td>NE</td>\n",
       "      <td>...</td>\n",
       "      <td>0.0</td>\n",
       "      <td>0.0</td>\n",
       "      <td>0.0</td>\n",
       "      <td>2015</td>\n",
       "      <td>61.72</td>\n",
       "      <td>0</td>\n",
       "      <td>1</td>\n",
       "      <td>1</td>\n",
       "      <td>Pass</td>\n",
       "      <td>0</td>\n",
       "    </tr>\n",
       "    <tr>\n",
       "      <th>1</th>\n",
       "      <td>2015-09-10</td>\n",
       "      <td>2015091000</td>\n",
       "      <td>1</td>\n",
       "      <td>1</td>\n",
       "      <td>1.0</td>\n",
       "      <td>15:00</td>\n",
       "      <td>15</td>\n",
       "      <td>3600.0</td>\n",
       "      <td>0.0</td>\n",
       "      <td>PIT</td>\n",
       "      <td>...</td>\n",
       "      <td>0.0</td>\n",
       "      <td>0.0</td>\n",
       "      <td>0.0</td>\n",
       "      <td>2015</td>\n",
       "      <td>61.72</td>\n",
       "      <td>0</td>\n",
       "      <td>3</td>\n",
       "      <td>3</td>\n",
       "      <td>Kickoff</td>\n",
       "      <td>0</td>\n",
       "    </tr>\n",
       "    <tr>\n",
       "      <th>2</th>\n",
       "      <td>2015-09-10</td>\n",
       "      <td>2015091000</td>\n",
       "      <td>1</td>\n",
       "      <td>1</td>\n",
       "      <td>1.0</td>\n",
       "      <td>14:21</td>\n",
       "      <td>15</td>\n",
       "      <td>3561.0</td>\n",
       "      <td>39.0</td>\n",
       "      <td>PIT</td>\n",
       "      <td>...</td>\n",
       "      <td>0.0</td>\n",
       "      <td>0.0</td>\n",
       "      <td>0.0</td>\n",
       "      <td>2015</td>\n",
       "      <td>61.72</td>\n",
       "      <td>0</td>\n",
       "      <td>3</td>\n",
       "      <td>3</td>\n",
       "      <td>Run</td>\n",
       "      <td>0</td>\n",
       "    </tr>\n",
       "    <tr>\n",
       "      <th>3</th>\n",
       "      <td>2015-09-10</td>\n",
       "      <td>2015091000</td>\n",
       "      <td>1</td>\n",
       "      <td>1</td>\n",
       "      <td>2.0</td>\n",
       "      <td>14:04</td>\n",
       "      <td>15</td>\n",
       "      <td>3544.0</td>\n",
       "      <td>17.0</td>\n",
       "      <td>PIT</td>\n",
       "      <td>...</td>\n",
       "      <td>0.0</td>\n",
       "      <td>0.0</td>\n",
       "      <td>0.0</td>\n",
       "      <td>2015</td>\n",
       "      <td>61.72</td>\n",
       "      <td>0</td>\n",
       "      <td>3</td>\n",
       "      <td>1</td>\n",
       "      <td>Pass</td>\n",
       "      <td>0</td>\n",
       "    </tr>\n",
       "    <tr>\n",
       "      <th>4</th>\n",
       "      <td>2015-09-10</td>\n",
       "      <td>2015091000</td>\n",
       "      <td>1</td>\n",
       "      <td>1</td>\n",
       "      <td>1.0</td>\n",
       "      <td>13:26</td>\n",
       "      <td>14</td>\n",
       "      <td>3506.0</td>\n",
       "      <td>38.0</td>\n",
       "      <td>NE</td>\n",
       "      <td>...</td>\n",
       "      <td>0.0</td>\n",
       "      <td>0.0</td>\n",
       "      <td>0.0</td>\n",
       "      <td>2015</td>\n",
       "      <td>61.72</td>\n",
       "      <td>0</td>\n",
       "      <td>3</td>\n",
       "      <td>3</td>\n",
       "      <td>Run</td>\n",
       "      <td>0</td>\n",
       "    </tr>\n",
       "  </tbody>\n",
       "</table>\n",
       "<p>5 rows × 71 columns</p>\n",
       "</div>"
      ],
      "text/plain": [
       "         Date      GameID  Drive  qtr  down   time  TimeUnder  TimeSecs  \\\n",
       "0  2015-09-10  2015091000      1    1   NaN  15:00         15    3600.0   \n",
       "1  2015-09-10  2015091000      1    1   1.0  15:00         15    3600.0   \n",
       "2  2015-09-10  2015091000      1    1   1.0  14:21         15    3561.0   \n",
       "3  2015-09-10  2015091000      1    1   2.0  14:04         15    3544.0   \n",
       "4  2015-09-10  2015091000      1    1   1.0  13:26         14    3506.0   \n",
       "\n",
       "   PlayTimeDiff SideofField      ...        DefTeamScore  ScoreDiff  \\\n",
       "0           0.0          NE      ...                 0.0        0.0   \n",
       "1           0.0         PIT      ...                 0.0        0.0   \n",
       "2          39.0         PIT      ...                 0.0        0.0   \n",
       "3          17.0         PIT      ...                 0.0        0.0   \n",
       "4          38.0          NE      ...                 0.0        0.0   \n",
       "\n",
       "   AbsScoreDiff  Season  PassRatio  isKick FieldGoalRange DistanceToFirst  \\\n",
       "0           0.0    2015      61.72       0              1               1   \n",
       "1           0.0    2015      61.72       0              3               3   \n",
       "2           0.0    2015      61.72       0              3               3   \n",
       "3           0.0    2015      61.72       0              3               1   \n",
       "4           0.0    2015      61.72       0              3               3   \n",
       "\n",
       "  LastPlay  LastPlayScore  \n",
       "0     Pass              0  \n",
       "1  Kickoff              0  \n",
       "2      Run              0  \n",
       "3     Pass              0  \n",
       "4      Run              0  \n",
       "\n",
       "[5 rows x 71 columns]"
      ]
     },
     "execution_count": 57,
     "metadata": {},
     "output_type": "execute_result"
    }
   ],
   "source": [
    "df[\"LastPlay\"] = lastplay\n",
    "df[\"LastPlayScore\"] = lastPlayScore\n",
    "df.head()"
   ]
  },
  {
   "cell_type": "code",
   "execution_count": null,
   "metadata": {
    "collapsed": true
   },
   "outputs": [],
   "source": [
    "data.posteam.unique()\n",
    "X_train, X_test, y_train, y_test = train_test_split(X, y, test_size = 0.18, random_state = 14)\n",
    "# This will give you the pass ratio of the train set. the train set and test set should be passed in WITH\n",
    "#the RushAttempt and PAssAttempt columns still in the data. None of the columns should be turned from strings to dummies. \n",
    "#the function will output test and train ready to perform calculations on. \n",
    "def fill_percents(train, test): \n",
    "    teams = ['PIT', 'NE', 'CHI', 'GB', 'KC', 'HOU', 'NYJ', 'CLE', 'IND', 'BUF',\n",
    "       'WAS', 'MIA', 'JAC', 'CAR', 'SEA', 'STL', 'ARI', 'NO', 'DET', 'SD',\n",
    "       'TEN', 'TB', 'OAK', 'CIN', 'BAL', 'DEN', 'DAL', 'NYG', 'PHI', 'ATL',\n",
    "       'SF', 'MIN']\n",
    "    d = {}\n",
    "    for team in teams:\n",
    "        d[team] = [0,0] \n",
    "    for i, range in train.iterrows(): \n",
    "        if(train.PassAttempt[i] == 1):\n",
    "            d[data.posteam[i]] = [d[data.posteam[i]][0] + 1,d[data.posteam[i]][1]]  \n",
    "        elif(data.RushAttempt[i] == 1):\n",
    "            d[data.posteam[i]] = [d[data.posteam[i]][0],d[data.posteam[i]][1]+1]\n",
    "    percent = []\n",
    "    for i, range in train.iterrows():\n",
    "        x = float(d[train.posteam[i]][0])/ (d[train.posteam[i]][0] + d[train.posteam[i]][1])\n",
    "        percent.append(x)\n",
    "    train[\"PassRatio2\"] = percent\n",
    "    percent = []\n",
    "    for i, range in test.iterrows():\n",
    "        x = float(d[test.posteam[i]][0])/ (d[test.posteam[i]][0] + d[test.posteam[i]][1])\n",
    "        percent.append(x)\n",
    "    test[\"PassRatio2\"] = percent\n",
    "    dum1 = pd.get_dummies(train[['LastPlay', 'SideofField', 'posteam', 'DefensiveTeam']])\n",
    "    train = train.drop(['LastPlay', 'SideofField', 'posteam', 'DefensiveTeam'], axis=1)\n",
    "    train = pd.concat([train, dum1], axis = 1)\n",
    "    dum1 = pd.get_dummies(test[['LastPlay', 'SideofField', 'posteam', 'DefensiveTeam']])\n",
    "    test = test.drop(['LastPlay', 'SideofField', 'posteam', 'DefensiveTeam'], axis=1)\n",
    "    test = pd.concat([test, dum1], axis = 1)\n",
    "    test = test.drop(['RushAttempt', 'PassAttempt','Drive'], axis=1)\n",
    "    train = train.drop(['RushAttempt', 'PassAttempt','Drive'], axis=1)\n",
    "    return train, test"
   ]
  },
  {
   "cell_type": "markdown",
   "metadata": {},
   "source": [
    "### Regression Models\n",
    "\n",
    "Going to start by making a new dataframe with the relevant predictors. Quite a few describe the play outcome which we can't use, and others, such as passer, have an NaN if it's not a pass play. We'd import the team QB ourselves in this case."
   ]
  },
  {
   "cell_type": "code",
   "execution_count": 58,
   "metadata": {
    "collapsed": false
   },
   "outputs": [
    {
     "data": {
      "text/plain": [
       "Index(['Date', 'GameID', 'Drive', 'qtr', 'down', 'time', 'TimeUnder',\n",
       "       'TimeSecs', 'PlayTimeDiff', 'SideofField', 'yrdln', 'yrdline100',\n",
       "       'ydstogo', 'ydsnet', 'GoalToGo', 'FirstDown', 'posteam',\n",
       "       'DefensiveTeam', 'desc', 'PlayAttempted', 'Yards.Gained', 'sp',\n",
       "       'Touchdown', 'ExPointResult', 'TwoPointConv', 'DefTwoPoint', 'Safety',\n",
       "       'PuntResult', 'PlayType', 'Passer', 'PassAttempt', 'PassOutcome',\n",
       "       'PassLength', 'PassLocation', 'InterceptionThrown', 'Interceptor',\n",
       "       'Rusher', 'RushAttempt', 'RunLocation', 'RunGap', 'Receiver',\n",
       "       'Reception', 'ReturnResult', 'Returner', 'BlockingPlayer', 'Tackler1',\n",
       "       'Tackler2', 'FieldGoalResult', 'FieldGoalDistance', 'Fumble',\n",
       "       'RecFumbTeam', 'RecFumbPlayer', 'Sack', 'Challenge.Replay',\n",
       "       'ChalReplayResult', 'Accepted.Penalty', 'PenalizedTeam', 'PenaltyType',\n",
       "       'PenalizedPlayer', 'Penalty.Yards', 'PosTeamScore', 'DefTeamScore',\n",
       "       'ScoreDiff', 'AbsScoreDiff', 'Season', 'PassRatio', 'isKick',\n",
       "       'FieldGoalRange', 'DistanceToFirst', 'LastPlay', 'LastPlayScore'],\n",
       "      dtype='object')"
      ]
     },
     "execution_count": 58,
     "metadata": {},
     "output_type": "execute_result"
    }
   ],
   "source": [
    "df.columns"
   ]
  },
  {
   "cell_type": "code",
   "execution_count": 59,
   "metadata": {
    "collapsed": false
   },
   "outputs": [],
   "source": [
    "df_rel = df[[\n",
    "    'Drive',\n",
    "    'qtr',\n",
    "    'down',\n",
    "    'time',\n",
    "    'LastPlay',\n",
    "    'LastPlayScore',\n",
    "    'TimeSecs',\n",
    "    'SideofField',\n",
    "    'yrdln',\n",
    "    'yrdline100',\n",
    "    'ydstogo',\n",
    "    'GoalToGo',\n",
    "    'posteam',\n",
    "    'DefensiveTeam',\n",
    "    'PlayType', # predicting on\n",
    "    'PosTeamScore',\n",
    "    'DefTeamScore',\n",
    "    'ScoreDiff',\n",
    "#     'AbsScoreDiff',\n",
    "    'PassRatio',\n",
    "    'FieldGoalRange',\n",
    "    'DistanceToFirst'\n",
    "    ]]\n"
   ]
  },
  {
   "cell_type": "code",
   "execution_count": 60,
   "metadata": {
    "collapsed": false,
    "scrolled": true
   },
   "outputs": [
    {
     "data": {
      "text/html": [
       "<div>\n",
       "<table border=\"1\" class=\"dataframe\">\n",
       "  <thead>\n",
       "    <tr style=\"text-align: right;\">\n",
       "      <th></th>\n",
       "      <th>Drive</th>\n",
       "      <th>qtr</th>\n",
       "      <th>down</th>\n",
       "      <th>time</th>\n",
       "      <th>LastPlay</th>\n",
       "      <th>LastPlayScore</th>\n",
       "      <th>TimeSecs</th>\n",
       "      <th>SideofField</th>\n",
       "      <th>yrdln</th>\n",
       "      <th>yrdline100</th>\n",
       "      <th>...</th>\n",
       "      <th>GoalToGo</th>\n",
       "      <th>posteam</th>\n",
       "      <th>DefensiveTeam</th>\n",
       "      <th>PlayType</th>\n",
       "      <th>PosTeamScore</th>\n",
       "      <th>DefTeamScore</th>\n",
       "      <th>ScoreDiff</th>\n",
       "      <th>PassRatio</th>\n",
       "      <th>FieldGoalRange</th>\n",
       "      <th>DistanceToFirst</th>\n",
       "    </tr>\n",
       "  </thead>\n",
       "  <tbody>\n",
       "    <tr>\n",
       "      <th>46124</th>\n",
       "      <td>22</td>\n",
       "      <td>4</td>\n",
       "      <td>4.0</td>\n",
       "      <td>00:43</td>\n",
       "      <td>Pass</td>\n",
       "      <td>0</td>\n",
       "      <td>43.0</td>\n",
       "      <td>GB</td>\n",
       "      <td>42.0</td>\n",
       "      <td>58.0</td>\n",
       "      <td>...</td>\n",
       "      <td>0.0</td>\n",
       "      <td>GB</td>\n",
       "      <td>MIN</td>\n",
       "      <td>Pass</td>\n",
       "      <td>13.0</td>\n",
       "      <td>19.0</td>\n",
       "      <td>-6.0</td>\n",
       "      <td>58.89</td>\n",
       "      <td>3</td>\n",
       "      <td>3</td>\n",
       "    </tr>\n",
       "    <tr>\n",
       "      <th>46125</th>\n",
       "      <td>22</td>\n",
       "      <td>4</td>\n",
       "      <td>1.0</td>\n",
       "      <td>00:27</td>\n",
       "      <td>Pass</td>\n",
       "      <td>0</td>\n",
       "      <td>27.0</td>\n",
       "      <td>MIN</td>\n",
       "      <td>46.0</td>\n",
       "      <td>46.0</td>\n",
       "      <td>...</td>\n",
       "      <td>0.0</td>\n",
       "      <td>GB</td>\n",
       "      <td>MIN</td>\n",
       "      <td>Pass</td>\n",
       "      <td>13.0</td>\n",
       "      <td>19.0</td>\n",
       "      <td>-6.0</td>\n",
       "      <td>58.89</td>\n",
       "      <td>3</td>\n",
       "      <td>3</td>\n",
       "    </tr>\n",
       "    <tr>\n",
       "      <th>46126</th>\n",
       "      <td>22</td>\n",
       "      <td>4</td>\n",
       "      <td>2.0</td>\n",
       "      <td>00:24</td>\n",
       "      <td>Pass</td>\n",
       "      <td>0</td>\n",
       "      <td>24.0</td>\n",
       "      <td>MIN</td>\n",
       "      <td>39.0</td>\n",
       "      <td>39.0</td>\n",
       "      <td>...</td>\n",
       "      <td>0.0</td>\n",
       "      <td>GB</td>\n",
       "      <td>MIN</td>\n",
       "      <td>Pass</td>\n",
       "      <td>13.0</td>\n",
       "      <td>19.0</td>\n",
       "      <td>-6.0</td>\n",
       "      <td>58.89</td>\n",
       "      <td>2</td>\n",
       "      <td>1</td>\n",
       "    </tr>\n",
       "    <tr>\n",
       "      <th>46127</th>\n",
       "      <td>22</td>\n",
       "      <td>4</td>\n",
       "      <td>3.0</td>\n",
       "      <td>00:15</td>\n",
       "      <td>Pass</td>\n",
       "      <td>0</td>\n",
       "      <td>15.0</td>\n",
       "      <td>MIN</td>\n",
       "      <td>39.0</td>\n",
       "      <td>39.0</td>\n",
       "      <td>...</td>\n",
       "      <td>0.0</td>\n",
       "      <td>GB</td>\n",
       "      <td>MIN</td>\n",
       "      <td>Pass</td>\n",
       "      <td>13.0</td>\n",
       "      <td>19.0</td>\n",
       "      <td>-6.0</td>\n",
       "      <td>58.89</td>\n",
       "      <td>2</td>\n",
       "      <td>1</td>\n",
       "    </tr>\n",
       "    <tr>\n",
       "      <th>46128</th>\n",
       "      <td>22</td>\n",
       "      <td>4</td>\n",
       "      <td>4.0</td>\n",
       "      <td>00:01</td>\n",
       "      <td>Pass</td>\n",
       "      <td>0</td>\n",
       "      <td>1.0</td>\n",
       "      <td>MIN</td>\n",
       "      <td>38.0</td>\n",
       "      <td>38.0</td>\n",
       "      <td>...</td>\n",
       "      <td>0.0</td>\n",
       "      <td>GB</td>\n",
       "      <td>MIN</td>\n",
       "      <td>Pass</td>\n",
       "      <td>13.0</td>\n",
       "      <td>19.0</td>\n",
       "      <td>-6.0</td>\n",
       "      <td>58.89</td>\n",
       "      <td>2</td>\n",
       "      <td>1</td>\n",
       "    </tr>\n",
       "  </tbody>\n",
       "</table>\n",
       "<p>5 rows × 21 columns</p>\n",
       "</div>"
      ],
      "text/plain": [
       "       Drive  qtr  down   time LastPlay  LastPlayScore  TimeSecs SideofField  \\\n",
       "46124     22    4   4.0  00:43     Pass              0      43.0          GB   \n",
       "46125     22    4   1.0  00:27     Pass              0      27.0         MIN   \n",
       "46126     22    4   2.0  00:24     Pass              0      24.0         MIN   \n",
       "46127     22    4   3.0  00:15     Pass              0      15.0         MIN   \n",
       "46128     22    4   4.0  00:01     Pass              0       1.0         MIN   \n",
       "\n",
       "       yrdln  yrdline100       ...         GoalToGo  posteam DefensiveTeam  \\\n",
       "46124   42.0        58.0       ...              0.0       GB           MIN   \n",
       "46125   46.0        46.0       ...              0.0       GB           MIN   \n",
       "46126   39.0        39.0       ...              0.0       GB           MIN   \n",
       "46127   39.0        39.0       ...              0.0       GB           MIN   \n",
       "46128   38.0        38.0       ...              0.0       GB           MIN   \n",
       "\n",
       "      PlayType PosTeamScore  DefTeamScore  ScoreDiff  PassRatio  \\\n",
       "46124     Pass         13.0          19.0       -6.0      58.89   \n",
       "46125     Pass         13.0          19.0       -6.0      58.89   \n",
       "46126     Pass         13.0          19.0       -6.0      58.89   \n",
       "46127     Pass         13.0          19.0       -6.0      58.89   \n",
       "46128     Pass         13.0          19.0       -6.0      58.89   \n",
       "\n",
       "       FieldGoalRange  DistanceToFirst  \n",
       "46124               3                3  \n",
       "46125               3                3  \n",
       "46126               2                1  \n",
       "46127               2                1  \n",
       "46128               2                1  \n",
       "\n",
       "[5 rows x 21 columns]"
      ]
     },
     "execution_count": 60,
     "metadata": {},
     "output_type": "execute_result"
    }
   ],
   "source": [
    "df_rel.tail()"
   ]
  },
  {
   "cell_type": "markdown",
   "metadata": {},
   "source": [
    "Seems 'sideOfFIeld' 'yrdln' == 'yrdline100' as long as sideOfField matches; makes sense to encode sideOfField and make an interaction with yrdln. Furthermore, an interaction with the encoded possession team with side of field should create understanding of how which side you're on matters.\n",
    "\n",
    "**Encode**"
   ]
  },
  {
   "cell_type": "code",
   "execution_count": 61,
   "metadata": {
    "collapsed": true
   },
   "outputs": [],
   "source": [
    "dm = pd.get_dummies(df_rel[['posteam', 'DefensiveTeam', 'SideofField']])\n",
    "df_rel = df_rel.drop(['posteam', 'DefensiveTeam', 'SideofField'], axis=1)\n",
    "df_rel = pd.concat([df_rel, dm], axis=1)"
   ]
  },
  {
   "cell_type": "code",
   "execution_count": 62,
   "metadata": {
    "collapsed": false
   },
   "outputs": [
    {
     "data": {
      "text/html": [
       "<div>\n",
       "<table border=\"1\" class=\"dataframe\">\n",
       "  <thead>\n",
       "    <tr style=\"text-align: right;\">\n",
       "      <th></th>\n",
       "      <th>Drive</th>\n",
       "      <th>qtr</th>\n",
       "      <th>down</th>\n",
       "      <th>time</th>\n",
       "      <th>LastPlay</th>\n",
       "      <th>LastPlayScore</th>\n",
       "      <th>TimeSecs</th>\n",
       "      <th>yrdln</th>\n",
       "      <th>yrdline100</th>\n",
       "      <th>ydstogo</th>\n",
       "      <th>...</th>\n",
       "      <th>SideofField_OAK</th>\n",
       "      <th>SideofField_PHI</th>\n",
       "      <th>SideofField_PIT</th>\n",
       "      <th>SideofField_SD</th>\n",
       "      <th>SideofField_SEA</th>\n",
       "      <th>SideofField_SF</th>\n",
       "      <th>SideofField_STL</th>\n",
       "      <th>SideofField_TB</th>\n",
       "      <th>SideofField_TEN</th>\n",
       "      <th>SideofField_WAS</th>\n",
       "    </tr>\n",
       "  </thead>\n",
       "  <tbody>\n",
       "    <tr>\n",
       "      <th>0</th>\n",
       "      <td>1</td>\n",
       "      <td>1</td>\n",
       "      <td>NaN</td>\n",
       "      <td>15:00</td>\n",
       "      <td>Pass</td>\n",
       "      <td>0</td>\n",
       "      <td>3600.0</td>\n",
       "      <td>35.0</td>\n",
       "      <td>35.0</td>\n",
       "      <td>0</td>\n",
       "      <td>...</td>\n",
       "      <td>0.0</td>\n",
       "      <td>0.0</td>\n",
       "      <td>0.0</td>\n",
       "      <td>0.0</td>\n",
       "      <td>0.0</td>\n",
       "      <td>0.0</td>\n",
       "      <td>0.0</td>\n",
       "      <td>0.0</td>\n",
       "      <td>0.0</td>\n",
       "      <td>0.0</td>\n",
       "    </tr>\n",
       "    <tr>\n",
       "      <th>1</th>\n",
       "      <td>1</td>\n",
       "      <td>1</td>\n",
       "      <td>1.0</td>\n",
       "      <td>15:00</td>\n",
       "      <td>Kickoff</td>\n",
       "      <td>0</td>\n",
       "      <td>3600.0</td>\n",
       "      <td>20.0</td>\n",
       "      <td>80.0</td>\n",
       "      <td>10</td>\n",
       "      <td>...</td>\n",
       "      <td>0.0</td>\n",
       "      <td>0.0</td>\n",
       "      <td>1.0</td>\n",
       "      <td>0.0</td>\n",
       "      <td>0.0</td>\n",
       "      <td>0.0</td>\n",
       "      <td>0.0</td>\n",
       "      <td>0.0</td>\n",
       "      <td>0.0</td>\n",
       "      <td>0.0</td>\n",
       "    </tr>\n",
       "    <tr>\n",
       "      <th>2</th>\n",
       "      <td>1</td>\n",
       "      <td>1</td>\n",
       "      <td>1.0</td>\n",
       "      <td>14:21</td>\n",
       "      <td>Run</td>\n",
       "      <td>0</td>\n",
       "      <td>3561.0</td>\n",
       "      <td>38.0</td>\n",
       "      <td>62.0</td>\n",
       "      <td>10</td>\n",
       "      <td>...</td>\n",
       "      <td>0.0</td>\n",
       "      <td>0.0</td>\n",
       "      <td>1.0</td>\n",
       "      <td>0.0</td>\n",
       "      <td>0.0</td>\n",
       "      <td>0.0</td>\n",
       "      <td>0.0</td>\n",
       "      <td>0.0</td>\n",
       "      <td>0.0</td>\n",
       "      <td>0.0</td>\n",
       "    </tr>\n",
       "    <tr>\n",
       "      <th>3</th>\n",
       "      <td>1</td>\n",
       "      <td>1</td>\n",
       "      <td>2.0</td>\n",
       "      <td>14:04</td>\n",
       "      <td>Pass</td>\n",
       "      <td>0</td>\n",
       "      <td>3544.0</td>\n",
       "      <td>47.0</td>\n",
       "      <td>53.0</td>\n",
       "      <td>1</td>\n",
       "      <td>...</td>\n",
       "      <td>0.0</td>\n",
       "      <td>0.0</td>\n",
       "      <td>1.0</td>\n",
       "      <td>0.0</td>\n",
       "      <td>0.0</td>\n",
       "      <td>0.0</td>\n",
       "      <td>0.0</td>\n",
       "      <td>0.0</td>\n",
       "      <td>0.0</td>\n",
       "      <td>0.0</td>\n",
       "    </tr>\n",
       "    <tr>\n",
       "      <th>4</th>\n",
       "      <td>1</td>\n",
       "      <td>1</td>\n",
       "      <td>1.0</td>\n",
       "      <td>13:26</td>\n",
       "      <td>Run</td>\n",
       "      <td>0</td>\n",
       "      <td>3506.0</td>\n",
       "      <td>49.0</td>\n",
       "      <td>49.0</td>\n",
       "      <td>10</td>\n",
       "      <td>...</td>\n",
       "      <td>0.0</td>\n",
       "      <td>0.0</td>\n",
       "      <td>0.0</td>\n",
       "      <td>0.0</td>\n",
       "      <td>0.0</td>\n",
       "      <td>0.0</td>\n",
       "      <td>0.0</td>\n",
       "      <td>0.0</td>\n",
       "      <td>0.0</td>\n",
       "      <td>0.0</td>\n",
       "    </tr>\n",
       "  </tbody>\n",
       "</table>\n",
       "<p>5 rows × 115 columns</p>\n",
       "</div>"
      ],
      "text/plain": [
       "   Drive  qtr  down   time LastPlay  LastPlayScore  TimeSecs  yrdln  \\\n",
       "0      1    1   NaN  15:00     Pass              0    3600.0   35.0   \n",
       "1      1    1   1.0  15:00  Kickoff              0    3600.0   20.0   \n",
       "2      1    1   1.0  14:21      Run              0    3561.0   38.0   \n",
       "3      1    1   2.0  14:04     Pass              0    3544.0   47.0   \n",
       "4      1    1   1.0  13:26      Run              0    3506.0   49.0   \n",
       "\n",
       "   yrdline100  ydstogo       ...         SideofField_OAK SideofField_PHI  \\\n",
       "0        35.0        0       ...                     0.0             0.0   \n",
       "1        80.0       10       ...                     0.0             0.0   \n",
       "2        62.0       10       ...                     0.0             0.0   \n",
       "3        53.0        1       ...                     0.0             0.0   \n",
       "4        49.0       10       ...                     0.0             0.0   \n",
       "\n",
       "   SideofField_PIT  SideofField_SD  SideofField_SEA  SideofField_SF  \\\n",
       "0              0.0             0.0              0.0             0.0   \n",
       "1              1.0             0.0              0.0             0.0   \n",
       "2              1.0             0.0              0.0             0.0   \n",
       "3              1.0             0.0              0.0             0.0   \n",
       "4              0.0             0.0              0.0             0.0   \n",
       "\n",
       "   SideofField_STL  SideofField_TB  SideofField_TEN  SideofField_WAS  \n",
       "0              0.0             0.0              0.0              0.0  \n",
       "1              0.0             0.0              0.0              0.0  \n",
       "2              0.0             0.0              0.0              0.0  \n",
       "3              0.0             0.0              0.0              0.0  \n",
       "4              0.0             0.0              0.0              0.0  \n",
       "\n",
       "[5 rows x 115 columns]"
      ]
     },
     "execution_count": 62,
     "metadata": {},
     "output_type": "execute_result"
    }
   ],
   "source": [
    "df_rel.head()"
   ]
  },
  {
   "cell_type": "markdown",
   "metadata": {},
   "source": [
    "**Interactions**"
   ]
  },
  {
   "cell_type": "code",
   "execution_count": 63,
   "metadata": {
    "collapsed": false
   },
   "outputs": [],
   "source": [
    "# posteam and SideofFIeld\n",
    "df_pos = pd.get_dummies(df[['posteam', 'SideofField']])\n",
    "df_pos = PolynomialFeatures(2, interaction_only=False, include_bias=False).fit_transform(df_pos)\n",
    "\n",
    "# DefensiveTeam and SideofField\n",
    "df_def = pd.get_dummies(df[['DefensiveTeam', 'SideofField']])\n",
    "df_def = PolynomialFeatures(2, interaction_only=False, include_bias=False).fit_transform(df_def)\n",
    "\n",
    "\n",
    "# df_int = df_rel[['sideOfField', 'yrdln', 'yrdline100']]\n",
    "# pf = PolynomialFeatures(2, interaction_only=True, include_bias=False).fit_transform(df_int)"
   ]
  },
  {
   "cell_type": "markdown",
   "metadata": {},
   "source": [
    "*Actually it'd be so sparse we're likely better off just iterating through and making one column such that*\n",
    "\n",
    "    if posteam == SideofField: posTeamSideofField = 1 else 0\n",
    "    \n",
    "The encoding is still necessary though for posteam, DefensiveTeam"
   ]
  },
  {
   "cell_type": "code",
   "execution_count": 64,
   "metadata": {
    "collapsed": false
   },
   "outputs": [],
   "source": [
    "posTeamSoF = []\n",
    "inds = []\n",
    "for index, row in df.iterrows(): # iterates in order, verified\n",
    "    inds.append(index)\n",
    "    if(row.ix['posteam'] == row.ix['SideofField']):\n",
    "        posTeamSoF.append(1)\n",
    "    else:\n",
    "        posTeamSoF.append(-1)"
   ]
  },
  {
   "cell_type": "code",
   "execution_count": 65,
   "metadata": {
    "collapsed": false
   },
   "outputs": [
    {
     "data": {
      "text/html": [
       "<div>\n",
       "<table border=\"1\" class=\"dataframe\">\n",
       "  <thead>\n",
       "    <tr style=\"text-align: right;\">\n",
       "      <th></th>\n",
       "      <th>posTeamSoF</th>\n",
       "    </tr>\n",
       "  </thead>\n",
       "  <tbody>\n",
       "    <tr>\n",
       "      <th>0</th>\n",
       "      <td>-1</td>\n",
       "    </tr>\n",
       "    <tr>\n",
       "      <th>1</th>\n",
       "      <td>1</td>\n",
       "    </tr>\n",
       "    <tr>\n",
       "      <th>2</th>\n",
       "      <td>1</td>\n",
       "    </tr>\n",
       "    <tr>\n",
       "      <th>3</th>\n",
       "      <td>1</td>\n",
       "    </tr>\n",
       "    <tr>\n",
       "      <th>4</th>\n",
       "      <td>-1</td>\n",
       "    </tr>\n",
       "  </tbody>\n",
       "</table>\n",
       "</div>"
      ],
      "text/plain": [
       "   posTeamSoF\n",
       "0          -1\n",
       "1           1\n",
       "2           1\n",
       "3           1\n",
       "4          -1"
      ]
     },
     "execution_count": 65,
     "metadata": {},
     "output_type": "execute_result"
    }
   ],
   "source": [
    "posTeamSoF = pd.DataFrame( posTeamSoF, index = inds)\n",
    "posTeamSoF.rename(index = str, columns = {0: 'posTeamSoF'}, inplace=True)\n",
    "posTeamSoF.head()"
   ]
  },
  {
   "cell_type": "code",
   "execution_count": 80,
   "metadata": {
    "collapsed": false,
    "scrolled": true
   },
   "outputs": [
    {
     "name": "stderr",
     "output_type": "stream",
     "text": [
      "C:\\Users\\Aditya Kharosekar\\Anaconda3\\lib\\site-packages\\ipykernel\\__main__.py:26: SettingWithCopyWarning: \n",
      "A value is trying to be set on a copy of a slice from a DataFrame.\n",
      "Try using .loc[row_indexer,col_indexer] = value instead\n",
      "\n",
      "See the caveats in the documentation: http://pandas.pydata.org/pandas-docs/stable/indexing.html#indexing-view-versus-copy\n"
     ]
    },
    {
     "data": {
      "text/html": [
       "<div>\n",
       "<table border=\"1\" class=\"dataframe\">\n",
       "  <thead>\n",
       "    <tr style=\"text-align: right;\">\n",
       "      <th></th>\n",
       "      <th>Drive</th>\n",
       "      <th>qtr</th>\n",
       "      <th>down</th>\n",
       "      <th>time</th>\n",
       "      <th>LastPlay</th>\n",
       "      <th>LastPlayScore</th>\n",
       "      <th>TimeSecs</th>\n",
       "      <th>SideofField</th>\n",
       "      <th>yrdln</th>\n",
       "      <th>yrdline100</th>\n",
       "      <th>...</th>\n",
       "      <th>isKick</th>\n",
       "      <th>DefensiveTeam</th>\n",
       "      <th>PlayType</th>\n",
       "      <th>PosTeamScore</th>\n",
       "      <th>DefTeamScore</th>\n",
       "      <th>ScoreDiff</th>\n",
       "      <th>PassRatio</th>\n",
       "      <th>FieldGoalRange</th>\n",
       "      <th>DistanceToFirst</th>\n",
       "      <th>posTeamSoF</th>\n",
       "    </tr>\n",
       "  </thead>\n",
       "  <tbody>\n",
       "    <tr>\n",
       "      <th>0</th>\n",
       "      <td>1</td>\n",
       "      <td>1</td>\n",
       "      <td>NaN</td>\n",
       "      <td>15:00</td>\n",
       "      <td>Pass</td>\n",
       "      <td>0</td>\n",
       "      <td>3600.0</td>\n",
       "      <td>NE</td>\n",
       "      <td>35.0</td>\n",
       "      <td>35.0</td>\n",
       "      <td>...</td>\n",
       "      <td>0</td>\n",
       "      <td>NE</td>\n",
       "      <td>Kickoff</td>\n",
       "      <td>0.0</td>\n",
       "      <td>0.0</td>\n",
       "      <td>0.0</td>\n",
       "      <td>61.72</td>\n",
       "      <td>1</td>\n",
       "      <td>1</td>\n",
       "      <td>-1</td>\n",
       "    </tr>\n",
       "    <tr>\n",
       "      <th>1</th>\n",
       "      <td>1</td>\n",
       "      <td>1</td>\n",
       "      <td>1.0</td>\n",
       "      <td>15:00</td>\n",
       "      <td>Kickoff</td>\n",
       "      <td>0</td>\n",
       "      <td>3600.0</td>\n",
       "      <td>PIT</td>\n",
       "      <td>20.0</td>\n",
       "      <td>80.0</td>\n",
       "      <td>...</td>\n",
       "      <td>0</td>\n",
       "      <td>NE</td>\n",
       "      <td>Run</td>\n",
       "      <td>0.0</td>\n",
       "      <td>0.0</td>\n",
       "      <td>0.0</td>\n",
       "      <td>61.72</td>\n",
       "      <td>3</td>\n",
       "      <td>3</td>\n",
       "      <td>1</td>\n",
       "    </tr>\n",
       "    <tr>\n",
       "      <th>2</th>\n",
       "      <td>1</td>\n",
       "      <td>1</td>\n",
       "      <td>1.0</td>\n",
       "      <td>14:21</td>\n",
       "      <td>Run</td>\n",
       "      <td>0</td>\n",
       "      <td>3561.0</td>\n",
       "      <td>PIT</td>\n",
       "      <td>38.0</td>\n",
       "      <td>62.0</td>\n",
       "      <td>...</td>\n",
       "      <td>0</td>\n",
       "      <td>NE</td>\n",
       "      <td>Pass</td>\n",
       "      <td>0.0</td>\n",
       "      <td>0.0</td>\n",
       "      <td>0.0</td>\n",
       "      <td>61.72</td>\n",
       "      <td>3</td>\n",
       "      <td>3</td>\n",
       "      <td>1</td>\n",
       "    </tr>\n",
       "    <tr>\n",
       "      <th>3</th>\n",
       "      <td>1</td>\n",
       "      <td>1</td>\n",
       "      <td>2.0</td>\n",
       "      <td>14:04</td>\n",
       "      <td>Pass</td>\n",
       "      <td>0</td>\n",
       "      <td>3544.0</td>\n",
       "      <td>PIT</td>\n",
       "      <td>47.0</td>\n",
       "      <td>53.0</td>\n",
       "      <td>...</td>\n",
       "      <td>0</td>\n",
       "      <td>NE</td>\n",
       "      <td>Run</td>\n",
       "      <td>0.0</td>\n",
       "      <td>0.0</td>\n",
       "      <td>0.0</td>\n",
       "      <td>61.72</td>\n",
       "      <td>3</td>\n",
       "      <td>1</td>\n",
       "      <td>1</td>\n",
       "    </tr>\n",
       "    <tr>\n",
       "      <th>4</th>\n",
       "      <td>1</td>\n",
       "      <td>1</td>\n",
       "      <td>1.0</td>\n",
       "      <td>13:26</td>\n",
       "      <td>Run</td>\n",
       "      <td>0</td>\n",
       "      <td>3506.0</td>\n",
       "      <td>NE</td>\n",
       "      <td>49.0</td>\n",
       "      <td>49.0</td>\n",
       "      <td>...</td>\n",
       "      <td>0</td>\n",
       "      <td>NE</td>\n",
       "      <td>Pass</td>\n",
       "      <td>0.0</td>\n",
       "      <td>0.0</td>\n",
       "      <td>0.0</td>\n",
       "      <td>61.72</td>\n",
       "      <td>3</td>\n",
       "      <td>3</td>\n",
       "      <td>-1</td>\n",
       "    </tr>\n",
       "  </tbody>\n",
       "</table>\n",
       "<p>5 rows × 23 columns</p>\n",
       "</div>"
      ],
      "text/plain": [
       "   Drive  qtr  down   time LastPlay  LastPlayScore  TimeSecs SideofField  \\\n",
       "0      1    1   NaN  15:00     Pass              0    3600.0          NE   \n",
       "1      1    1   1.0  15:00  Kickoff              0    3600.0         PIT   \n",
       "2      1    1   1.0  14:21      Run              0    3561.0         PIT   \n",
       "3      1    1   2.0  14:04     Pass              0    3544.0         PIT   \n",
       "4      1    1   1.0  13:26      Run              0    3506.0          NE   \n",
       "\n",
       "   yrdln  yrdline100     ...      isKick  DefensiveTeam PlayType  \\\n",
       "0   35.0        35.0     ...           0             NE  Kickoff   \n",
       "1   20.0        80.0     ...           0             NE      Run   \n",
       "2   38.0        62.0     ...           0             NE     Pass   \n",
       "3   47.0        53.0     ...           0             NE      Run   \n",
       "4   49.0        49.0     ...           0             NE     Pass   \n",
       "\n",
       "   PosTeamScore DefTeamScore ScoreDiff  PassRatio  FieldGoalRange  \\\n",
       "0           0.0          0.0       0.0      61.72               1   \n",
       "1           0.0          0.0       0.0      61.72               3   \n",
       "2           0.0          0.0       0.0      61.72               3   \n",
       "3           0.0          0.0       0.0      61.72               3   \n",
       "4           0.0          0.0       0.0      61.72               3   \n",
       "\n",
       "   DistanceToFirst  posTeamSoF  \n",
       "0                1          -1  \n",
       "1                3           1  \n",
       "2                3           1  \n",
       "3                1           1  \n",
       "4                3          -1  \n",
       "\n",
       "[5 rows x 23 columns]"
      ]
     },
     "execution_count": 80,
     "metadata": {},
     "output_type": "execute_result"
    }
   ],
   "source": [
    "df_rel = df[[\n",
    "    'Drive',\n",
    "    'qtr',\n",
    "    'down',\n",
    "    'time',\n",
    "    'LastPlay',\n",
    "    'LastPlayScore',\n",
    "    'TimeSecs',\n",
    "    'SideofField',\n",
    "    'yrdln',\n",
    "    'yrdline100',\n",
    "    'ydstogo',\n",
    "    'GoalToGo',\n",
    "    'posteam',\n",
    "    'isKick',\n",
    "    'DefensiveTeam',\n",
    "    'PlayType', # predicting on\n",
    "    'PosTeamScore',\n",
    "    'DefTeamScore',\n",
    "    'ScoreDiff',\n",
    "#     'AbsScoreDiff',\n",
    "    'PassRatio',\n",
    "    'FieldGoalRange',\n",
    "    'DistanceToFirst'\n",
    "    ]]\n",
    "df_rel['posTeamSoF'] = np.asarray(posTeamSoF)\n",
    "df_rel.head()"
   ]
  },
  {
   "cell_type": "code",
   "execution_count": 81,
   "metadata": {
    "collapsed": false
   },
   "outputs": [
    {
     "name": "stderr",
     "output_type": "stream",
     "text": [
      "C:\\Users\\Aditya Kharosekar\\Anaconda3\\lib\\site-packages\\ipykernel\\__main__.py:2: SettingWithCopyWarning: \n",
      "A value is trying to be set on a copy of a slice from a DataFrame.\n",
      "Try using .loc[row_indexer,col_indexer] = value instead\n",
      "\n",
      "See the caveats in the documentation: http://pandas.pydata.org/pandas-docs/stable/indexing.html#indexing-view-versus-copy\n",
      "  from ipykernel import kernelapp as app\n"
     ]
    },
    {
     "data": {
      "text/html": [
       "<div>\n",
       "<table border=\"1\" class=\"dataframe\">\n",
       "  <thead>\n",
       "    <tr style=\"text-align: right;\">\n",
       "      <th></th>\n",
       "      <th>Drive</th>\n",
       "      <th>qtr</th>\n",
       "      <th>down</th>\n",
       "      <th>time</th>\n",
       "      <th>LastPlay</th>\n",
       "      <th>LastPlayScore</th>\n",
       "      <th>TimeSecs</th>\n",
       "      <th>SideofField</th>\n",
       "      <th>yrdln</th>\n",
       "      <th>yrdline100</th>\n",
       "      <th>...</th>\n",
       "      <th>DefensiveTeam</th>\n",
       "      <th>PlayType</th>\n",
       "      <th>PosTeamScore</th>\n",
       "      <th>DefTeamScore</th>\n",
       "      <th>ScoreDiff</th>\n",
       "      <th>PassRatio</th>\n",
       "      <th>FieldGoalRange</th>\n",
       "      <th>DistanceToFirst</th>\n",
       "      <th>posTeamSoF</th>\n",
       "      <th>50yd_byteam</th>\n",
       "    </tr>\n",
       "  </thead>\n",
       "  <tbody>\n",
       "    <tr>\n",
       "      <th>0</th>\n",
       "      <td>1</td>\n",
       "      <td>1</td>\n",
       "      <td>NaN</td>\n",
       "      <td>15:00</td>\n",
       "      <td>Pass</td>\n",
       "      <td>0</td>\n",
       "      <td>3600.0</td>\n",
       "      <td>NE</td>\n",
       "      <td>35.0</td>\n",
       "      <td>35.0</td>\n",
       "      <td>...</td>\n",
       "      <td>NE</td>\n",
       "      <td>Kickoff</td>\n",
       "      <td>0.0</td>\n",
       "      <td>0.0</td>\n",
       "      <td>0.0</td>\n",
       "      <td>61.72</td>\n",
       "      <td>1</td>\n",
       "      <td>1</td>\n",
       "      <td>-1</td>\n",
       "      <td>-35.0</td>\n",
       "    </tr>\n",
       "    <tr>\n",
       "      <th>1</th>\n",
       "      <td>1</td>\n",
       "      <td>1</td>\n",
       "      <td>1.0</td>\n",
       "      <td>15:00</td>\n",
       "      <td>Kickoff</td>\n",
       "      <td>0</td>\n",
       "      <td>3600.0</td>\n",
       "      <td>PIT</td>\n",
       "      <td>20.0</td>\n",
       "      <td>80.0</td>\n",
       "      <td>...</td>\n",
       "      <td>NE</td>\n",
       "      <td>Run</td>\n",
       "      <td>0.0</td>\n",
       "      <td>0.0</td>\n",
       "      <td>0.0</td>\n",
       "      <td>61.72</td>\n",
       "      <td>3</td>\n",
       "      <td>3</td>\n",
       "      <td>1</td>\n",
       "      <td>20.0</td>\n",
       "    </tr>\n",
       "    <tr>\n",
       "      <th>2</th>\n",
       "      <td>1</td>\n",
       "      <td>1</td>\n",
       "      <td>1.0</td>\n",
       "      <td>14:21</td>\n",
       "      <td>Run</td>\n",
       "      <td>0</td>\n",
       "      <td>3561.0</td>\n",
       "      <td>PIT</td>\n",
       "      <td>38.0</td>\n",
       "      <td>62.0</td>\n",
       "      <td>...</td>\n",
       "      <td>NE</td>\n",
       "      <td>Pass</td>\n",
       "      <td>0.0</td>\n",
       "      <td>0.0</td>\n",
       "      <td>0.0</td>\n",
       "      <td>61.72</td>\n",
       "      <td>3</td>\n",
       "      <td>3</td>\n",
       "      <td>1</td>\n",
       "      <td>38.0</td>\n",
       "    </tr>\n",
       "    <tr>\n",
       "      <th>3</th>\n",
       "      <td>1</td>\n",
       "      <td>1</td>\n",
       "      <td>2.0</td>\n",
       "      <td>14:04</td>\n",
       "      <td>Pass</td>\n",
       "      <td>0</td>\n",
       "      <td>3544.0</td>\n",
       "      <td>PIT</td>\n",
       "      <td>47.0</td>\n",
       "      <td>53.0</td>\n",
       "      <td>...</td>\n",
       "      <td>NE</td>\n",
       "      <td>Run</td>\n",
       "      <td>0.0</td>\n",
       "      <td>0.0</td>\n",
       "      <td>0.0</td>\n",
       "      <td>61.72</td>\n",
       "      <td>3</td>\n",
       "      <td>1</td>\n",
       "      <td>1</td>\n",
       "      <td>47.0</td>\n",
       "    </tr>\n",
       "    <tr>\n",
       "      <th>4</th>\n",
       "      <td>1</td>\n",
       "      <td>1</td>\n",
       "      <td>1.0</td>\n",
       "      <td>13:26</td>\n",
       "      <td>Run</td>\n",
       "      <td>0</td>\n",
       "      <td>3506.0</td>\n",
       "      <td>NE</td>\n",
       "      <td>49.0</td>\n",
       "      <td>49.0</td>\n",
       "      <td>...</td>\n",
       "      <td>NE</td>\n",
       "      <td>Pass</td>\n",
       "      <td>0.0</td>\n",
       "      <td>0.0</td>\n",
       "      <td>0.0</td>\n",
       "      <td>61.72</td>\n",
       "      <td>3</td>\n",
       "      <td>3</td>\n",
       "      <td>-1</td>\n",
       "      <td>-49.0</td>\n",
       "    </tr>\n",
       "  </tbody>\n",
       "</table>\n",
       "<p>5 rows × 24 columns</p>\n",
       "</div>"
      ],
      "text/plain": [
       "   Drive  qtr  down   time LastPlay  LastPlayScore  TimeSecs SideofField  \\\n",
       "0      1    1   NaN  15:00     Pass              0    3600.0          NE   \n",
       "1      1    1   1.0  15:00  Kickoff              0    3600.0         PIT   \n",
       "2      1    1   1.0  14:21      Run              0    3561.0         PIT   \n",
       "3      1    1   2.0  14:04     Pass              0    3544.0         PIT   \n",
       "4      1    1   1.0  13:26      Run              0    3506.0          NE   \n",
       "\n",
       "   yrdln  yrdline100     ...       DefensiveTeam  PlayType PosTeamScore  \\\n",
       "0   35.0        35.0     ...                  NE   Kickoff          0.0   \n",
       "1   20.0        80.0     ...                  NE       Run          0.0   \n",
       "2   38.0        62.0     ...                  NE      Pass          0.0   \n",
       "3   47.0        53.0     ...                  NE       Run          0.0   \n",
       "4   49.0        49.0     ...                  NE      Pass          0.0   \n",
       "\n",
       "   DefTeamScore ScoreDiff PassRatio  FieldGoalRange  DistanceToFirst  \\\n",
       "0           0.0       0.0     61.72               1                1   \n",
       "1           0.0       0.0     61.72               3                3   \n",
       "2           0.0       0.0     61.72               3                3   \n",
       "3           0.0       0.0     61.72               3                1   \n",
       "4           0.0       0.0     61.72               3                3   \n",
       "\n",
       "   posTeamSoF  50yd_byteam  \n",
       "0          -1        -35.0  \n",
       "1           1         20.0  \n",
       "2           1         38.0  \n",
       "3           1         47.0  \n",
       "4          -1        -49.0  \n",
       "\n",
       "[5 rows x 24 columns]"
      ]
     },
     "execution_count": 81,
     "metadata": {},
     "output_type": "execute_result"
    }
   ],
   "source": [
    "# now multiply ydln (0 to 50) * the {-1, 1} for which side they're on\n",
    "df_rel['50yd_byteam'] = df_rel['yrdln'] * df_rel['posTeamSoF']\n",
    "df_rel.head()"
   ]
  },
  {
   "cell_type": "code",
   "execution_count": 82,
   "metadata": {
    "collapsed": false
   },
   "outputs": [],
   "source": [
    "df_rel = df_rel.drop(['yrdln'], axis=1)"
   ]
  },
  {
   "cell_type": "code",
   "execution_count": 83,
   "metadata": {
    "collapsed": false,
    "scrolled": true
   },
   "outputs": [
    {
     "data": {
      "text/html": [
       "<div>\n",
       "<table border=\"1\" class=\"dataframe\">\n",
       "  <thead>\n",
       "    <tr style=\"text-align: right;\">\n",
       "      <th></th>\n",
       "      <th>Drive</th>\n",
       "      <th>qtr</th>\n",
       "      <th>down</th>\n",
       "      <th>time</th>\n",
       "      <th>LastPlay</th>\n",
       "      <th>LastPlayScore</th>\n",
       "      <th>TimeSecs</th>\n",
       "      <th>SideofField</th>\n",
       "      <th>yrdline100</th>\n",
       "      <th>ydstogo</th>\n",
       "      <th>...</th>\n",
       "      <th>DefensiveTeam</th>\n",
       "      <th>PlayType</th>\n",
       "      <th>PosTeamScore</th>\n",
       "      <th>DefTeamScore</th>\n",
       "      <th>ScoreDiff</th>\n",
       "      <th>PassRatio</th>\n",
       "      <th>FieldGoalRange</th>\n",
       "      <th>DistanceToFirst</th>\n",
       "      <th>posTeamSoF</th>\n",
       "      <th>50yd_byteam</th>\n",
       "    </tr>\n",
       "  </thead>\n",
       "  <tbody>\n",
       "    <tr>\n",
       "      <th>0</th>\n",
       "      <td>1</td>\n",
       "      <td>1</td>\n",
       "      <td>NaN</td>\n",
       "      <td>15:00</td>\n",
       "      <td>Pass</td>\n",
       "      <td>0</td>\n",
       "      <td>3600.0</td>\n",
       "      <td>NE</td>\n",
       "      <td>35.0</td>\n",
       "      <td>0</td>\n",
       "      <td>...</td>\n",
       "      <td>NE</td>\n",
       "      <td>Kickoff</td>\n",
       "      <td>0.0</td>\n",
       "      <td>0.0</td>\n",
       "      <td>0.0</td>\n",
       "      <td>61.72</td>\n",
       "      <td>1</td>\n",
       "      <td>1</td>\n",
       "      <td>-1</td>\n",
       "      <td>-35.0</td>\n",
       "    </tr>\n",
       "    <tr>\n",
       "      <th>1</th>\n",
       "      <td>1</td>\n",
       "      <td>1</td>\n",
       "      <td>1.0</td>\n",
       "      <td>15:00</td>\n",
       "      <td>Kickoff</td>\n",
       "      <td>0</td>\n",
       "      <td>3600.0</td>\n",
       "      <td>PIT</td>\n",
       "      <td>80.0</td>\n",
       "      <td>10</td>\n",
       "      <td>...</td>\n",
       "      <td>NE</td>\n",
       "      <td>Run</td>\n",
       "      <td>0.0</td>\n",
       "      <td>0.0</td>\n",
       "      <td>0.0</td>\n",
       "      <td>61.72</td>\n",
       "      <td>3</td>\n",
       "      <td>3</td>\n",
       "      <td>1</td>\n",
       "      <td>20.0</td>\n",
       "    </tr>\n",
       "    <tr>\n",
       "      <th>2</th>\n",
       "      <td>1</td>\n",
       "      <td>1</td>\n",
       "      <td>1.0</td>\n",
       "      <td>14:21</td>\n",
       "      <td>Run</td>\n",
       "      <td>0</td>\n",
       "      <td>3561.0</td>\n",
       "      <td>PIT</td>\n",
       "      <td>62.0</td>\n",
       "      <td>10</td>\n",
       "      <td>...</td>\n",
       "      <td>NE</td>\n",
       "      <td>Pass</td>\n",
       "      <td>0.0</td>\n",
       "      <td>0.0</td>\n",
       "      <td>0.0</td>\n",
       "      <td>61.72</td>\n",
       "      <td>3</td>\n",
       "      <td>3</td>\n",
       "      <td>1</td>\n",
       "      <td>38.0</td>\n",
       "    </tr>\n",
       "    <tr>\n",
       "      <th>3</th>\n",
       "      <td>1</td>\n",
       "      <td>1</td>\n",
       "      <td>2.0</td>\n",
       "      <td>14:04</td>\n",
       "      <td>Pass</td>\n",
       "      <td>0</td>\n",
       "      <td>3544.0</td>\n",
       "      <td>PIT</td>\n",
       "      <td>53.0</td>\n",
       "      <td>1</td>\n",
       "      <td>...</td>\n",
       "      <td>NE</td>\n",
       "      <td>Run</td>\n",
       "      <td>0.0</td>\n",
       "      <td>0.0</td>\n",
       "      <td>0.0</td>\n",
       "      <td>61.72</td>\n",
       "      <td>3</td>\n",
       "      <td>1</td>\n",
       "      <td>1</td>\n",
       "      <td>47.0</td>\n",
       "    </tr>\n",
       "    <tr>\n",
       "      <th>4</th>\n",
       "      <td>1</td>\n",
       "      <td>1</td>\n",
       "      <td>1.0</td>\n",
       "      <td>13:26</td>\n",
       "      <td>Run</td>\n",
       "      <td>0</td>\n",
       "      <td>3506.0</td>\n",
       "      <td>NE</td>\n",
       "      <td>49.0</td>\n",
       "      <td>10</td>\n",
       "      <td>...</td>\n",
       "      <td>NE</td>\n",
       "      <td>Pass</td>\n",
       "      <td>0.0</td>\n",
       "      <td>0.0</td>\n",
       "      <td>0.0</td>\n",
       "      <td>61.72</td>\n",
       "      <td>3</td>\n",
       "      <td>3</td>\n",
       "      <td>-1</td>\n",
       "      <td>-49.0</td>\n",
       "    </tr>\n",
       "  </tbody>\n",
       "</table>\n",
       "<p>5 rows × 23 columns</p>\n",
       "</div>"
      ],
      "text/plain": [
       "   Drive  qtr  down   time LastPlay  LastPlayScore  TimeSecs SideofField  \\\n",
       "0      1    1   NaN  15:00     Pass              0    3600.0          NE   \n",
       "1      1    1   1.0  15:00  Kickoff              0    3600.0         PIT   \n",
       "2      1    1   1.0  14:21      Run              0    3561.0         PIT   \n",
       "3      1    1   2.0  14:04     Pass              0    3544.0         PIT   \n",
       "4      1    1   1.0  13:26      Run              0    3506.0          NE   \n",
       "\n",
       "   yrdline100  ydstogo     ...       DefensiveTeam PlayType  PosTeamScore  \\\n",
       "0        35.0        0     ...                  NE  Kickoff           0.0   \n",
       "1        80.0       10     ...                  NE      Run           0.0   \n",
       "2        62.0       10     ...                  NE     Pass           0.0   \n",
       "3        53.0        1     ...                  NE      Run           0.0   \n",
       "4        49.0       10     ...                  NE     Pass           0.0   \n",
       "\n",
       "  DefTeamScore ScoreDiff  PassRatio  FieldGoalRange  DistanceToFirst  \\\n",
       "0          0.0       0.0      61.72               1                1   \n",
       "1          0.0       0.0      61.72               3                3   \n",
       "2          0.0       0.0      61.72               3                3   \n",
       "3          0.0       0.0      61.72               3                1   \n",
       "4          0.0       0.0      61.72               3                3   \n",
       "\n",
       "   posTeamSoF  50yd_byteam  \n",
       "0          -1        -35.0  \n",
       "1           1         20.0  \n",
       "2           1         38.0  \n",
       "3           1         47.0  \n",
       "4          -1        -49.0  \n",
       "\n",
       "[5 rows x 23 columns]"
      ]
     },
     "execution_count": 83,
     "metadata": {},
     "output_type": "execute_result"
    }
   ],
   "source": [
    "df_rel.head()"
   ]
  },
  {
   "cell_type": "code",
   "execution_count": 84,
   "metadata": {
    "collapsed": false,
    "scrolled": true
   },
   "outputs": [
    {
     "data": {
      "text/html": [
       "<div>\n",
       "<table border=\"1\" class=\"dataframe\">\n",
       "  <thead>\n",
       "    <tr style=\"text-align: right;\">\n",
       "      <th></th>\n",
       "      <th>Drive</th>\n",
       "      <th>qtr</th>\n",
       "      <th>down</th>\n",
       "      <th>time</th>\n",
       "      <th>LastPlay</th>\n",
       "      <th>LastPlayScore</th>\n",
       "      <th>TimeSecs</th>\n",
       "      <th>SideofField</th>\n",
       "      <th>yrdline100</th>\n",
       "      <th>ydstogo</th>\n",
       "      <th>...</th>\n",
       "      <th>DefensiveTeam</th>\n",
       "      <th>PlayType</th>\n",
       "      <th>PosTeamScore</th>\n",
       "      <th>DefTeamScore</th>\n",
       "      <th>ScoreDiff</th>\n",
       "      <th>PassRatio</th>\n",
       "      <th>FieldGoalRange</th>\n",
       "      <th>DistanceToFirst</th>\n",
       "      <th>posTeamSoF</th>\n",
       "      <th>50yd_byteam</th>\n",
       "    </tr>\n",
       "  </thead>\n",
       "  <tbody>\n",
       "    <tr>\n",
       "      <th>0</th>\n",
       "      <td>1</td>\n",
       "      <td>1</td>\n",
       "      <td>NaN</td>\n",
       "      <td>15:00</td>\n",
       "      <td>Pass</td>\n",
       "      <td>0</td>\n",
       "      <td>3600.0</td>\n",
       "      <td>NE</td>\n",
       "      <td>35.0</td>\n",
       "      <td>0</td>\n",
       "      <td>...</td>\n",
       "      <td>NE</td>\n",
       "      <td>Kickoff</td>\n",
       "      <td>0.0</td>\n",
       "      <td>0.0</td>\n",
       "      <td>0.0</td>\n",
       "      <td>61.72</td>\n",
       "      <td>1</td>\n",
       "      <td>1</td>\n",
       "      <td>0.0</td>\n",
       "      <td>-35.0</td>\n",
       "    </tr>\n",
       "    <tr>\n",
       "      <th>1</th>\n",
       "      <td>1</td>\n",
       "      <td>1</td>\n",
       "      <td>1.0</td>\n",
       "      <td>15:00</td>\n",
       "      <td>Kickoff</td>\n",
       "      <td>0</td>\n",
       "      <td>3600.0</td>\n",
       "      <td>PIT</td>\n",
       "      <td>80.0</td>\n",
       "      <td>10</td>\n",
       "      <td>...</td>\n",
       "      <td>NE</td>\n",
       "      <td>Run</td>\n",
       "      <td>0.0</td>\n",
       "      <td>0.0</td>\n",
       "      <td>0.0</td>\n",
       "      <td>61.72</td>\n",
       "      <td>3</td>\n",
       "      <td>3</td>\n",
       "      <td>1.0</td>\n",
       "      <td>20.0</td>\n",
       "    </tr>\n",
       "    <tr>\n",
       "      <th>2</th>\n",
       "      <td>1</td>\n",
       "      <td>1</td>\n",
       "      <td>1.0</td>\n",
       "      <td>14:21</td>\n",
       "      <td>Run</td>\n",
       "      <td>0</td>\n",
       "      <td>3561.0</td>\n",
       "      <td>PIT</td>\n",
       "      <td>62.0</td>\n",
       "      <td>10</td>\n",
       "      <td>...</td>\n",
       "      <td>NE</td>\n",
       "      <td>Pass</td>\n",
       "      <td>0.0</td>\n",
       "      <td>0.0</td>\n",
       "      <td>0.0</td>\n",
       "      <td>61.72</td>\n",
       "      <td>3</td>\n",
       "      <td>3</td>\n",
       "      <td>1.0</td>\n",
       "      <td>38.0</td>\n",
       "    </tr>\n",
       "    <tr>\n",
       "      <th>3</th>\n",
       "      <td>1</td>\n",
       "      <td>1</td>\n",
       "      <td>2.0</td>\n",
       "      <td>14:04</td>\n",
       "      <td>Pass</td>\n",
       "      <td>0</td>\n",
       "      <td>3544.0</td>\n",
       "      <td>PIT</td>\n",
       "      <td>53.0</td>\n",
       "      <td>1</td>\n",
       "      <td>...</td>\n",
       "      <td>NE</td>\n",
       "      <td>Run</td>\n",
       "      <td>0.0</td>\n",
       "      <td>0.0</td>\n",
       "      <td>0.0</td>\n",
       "      <td>61.72</td>\n",
       "      <td>3</td>\n",
       "      <td>1</td>\n",
       "      <td>1.0</td>\n",
       "      <td>47.0</td>\n",
       "    </tr>\n",
       "    <tr>\n",
       "      <th>4</th>\n",
       "      <td>1</td>\n",
       "      <td>1</td>\n",
       "      <td>1.0</td>\n",
       "      <td>13:26</td>\n",
       "      <td>Run</td>\n",
       "      <td>0</td>\n",
       "      <td>3506.0</td>\n",
       "      <td>NE</td>\n",
       "      <td>49.0</td>\n",
       "      <td>10</td>\n",
       "      <td>...</td>\n",
       "      <td>NE</td>\n",
       "      <td>Pass</td>\n",
       "      <td>0.0</td>\n",
       "      <td>0.0</td>\n",
       "      <td>0.0</td>\n",
       "      <td>61.72</td>\n",
       "      <td>3</td>\n",
       "      <td>3</td>\n",
       "      <td>0.0</td>\n",
       "      <td>-49.0</td>\n",
       "    </tr>\n",
       "  </tbody>\n",
       "</table>\n",
       "<p>5 rows × 23 columns</p>\n",
       "</div>"
      ],
      "text/plain": [
       "   Drive  qtr  down   time LastPlay  LastPlayScore  TimeSecs SideofField  \\\n",
       "0      1    1   NaN  15:00     Pass              0    3600.0          NE   \n",
       "1      1    1   1.0  15:00  Kickoff              0    3600.0         PIT   \n",
       "2      1    1   1.0  14:21      Run              0    3561.0         PIT   \n",
       "3      1    1   2.0  14:04     Pass              0    3544.0         PIT   \n",
       "4      1    1   1.0  13:26      Run              0    3506.0          NE   \n",
       "\n",
       "   yrdline100  ydstogo     ...       DefensiveTeam PlayType  PosTeamScore  \\\n",
       "0        35.0        0     ...                  NE  Kickoff           0.0   \n",
       "1        80.0       10     ...                  NE      Run           0.0   \n",
       "2        62.0       10     ...                  NE     Pass           0.0   \n",
       "3        53.0        1     ...                  NE      Run           0.0   \n",
       "4        49.0       10     ...                  NE     Pass           0.0   \n",
       "\n",
       "  DefTeamScore ScoreDiff  PassRatio  FieldGoalRange  DistanceToFirst  \\\n",
       "0          0.0       0.0      61.72               1                1   \n",
       "1          0.0       0.0      61.72               3                3   \n",
       "2          0.0       0.0      61.72               3                3   \n",
       "3          0.0       0.0      61.72               3                1   \n",
       "4          0.0       0.0      61.72               3                3   \n",
       "\n",
       "   posTeamSoF  50yd_byteam  \n",
       "0         0.0        -35.0  \n",
       "1         1.0         20.0  \n",
       "2         1.0         38.0  \n",
       "3         1.0         47.0  \n",
       "4         0.0        -49.0  \n",
       "\n",
       "[5 rows x 23 columns]"
      ]
     },
     "execution_count": 84,
     "metadata": {},
     "output_type": "execute_result"
    }
   ],
   "source": [
    "# convert back to 1 and 0 binary column\n",
    "df_rel['posTeamSoF'] = df_rel['posTeamSoF'] + 1\n",
    "df_rel['posTeamSoF'] = df_rel['posTeamSoF'] / 2\n",
    "df_rel.head()"
   ]
  },
  {
   "cell_type": "code",
   "execution_count": 86,
   "metadata": {
    "collapsed": false
   },
   "outputs": [],
   "source": [
    "df_rel.to_csv('Cleanest_data_yet.csv')"
   ]
  },
  {
   "cell_type": "markdown",
   "metadata": {},
   "source": [
    "### df_rel is in a decent place to start predicting"
   ]
  },
  {
   "cell_type": "code",
   "execution_count": 13,
   "metadata": {
    "collapsed": false
   },
   "outputs": [],
   "source": [
    "data = pd.read_csv('Cleanest_data_yet.csv')"
   ]
  },
  {
   "cell_type": "code",
   "execution_count": 14,
   "metadata": {
    "collapsed": false
   },
   "outputs": [
    {
     "data": {
      "text/plain": [
       "(39090, 24)"
      ]
     },
     "execution_count": 14,
     "metadata": {},
     "output_type": "execute_result"
    }
   ],
   "source": [
    "data.shape"
   ]
  },
  {
   "cell_type": "code",
   "execution_count": 15,
   "metadata": {
    "collapsed": false,
    "scrolled": true
   },
   "outputs": [
    {
     "data": {
      "text/html": [
       "<div>\n",
       "<table border=\"1\" class=\"dataframe\">\n",
       "  <thead>\n",
       "    <tr style=\"text-align: right;\">\n",
       "      <th></th>\n",
       "      <th>Drive</th>\n",
       "      <th>qtr</th>\n",
       "      <th>down</th>\n",
       "      <th>time</th>\n",
       "      <th>LastPlay</th>\n",
       "      <th>LastPlayScore</th>\n",
       "      <th>TimeSecs</th>\n",
       "      <th>SideofField</th>\n",
       "      <th>yrdline100</th>\n",
       "      <th>ydstogo</th>\n",
       "      <th>...</th>\n",
       "      <th>DefensiveTeam</th>\n",
       "      <th>PlayType</th>\n",
       "      <th>PosTeamScore</th>\n",
       "      <th>DefTeamScore</th>\n",
       "      <th>ScoreDiff</th>\n",
       "      <th>PassRatio</th>\n",
       "      <th>FieldGoalRange</th>\n",
       "      <th>DistanceToFirst</th>\n",
       "      <th>posTeamSoF</th>\n",
       "      <th>50yd_byteam</th>\n",
       "    </tr>\n",
       "  </thead>\n",
       "  <tbody>\n",
       "    <tr>\n",
       "      <th>0</th>\n",
       "      <td>1</td>\n",
       "      <td>1</td>\n",
       "      <td>NaN</td>\n",
       "      <td>15:00</td>\n",
       "      <td>Pass</td>\n",
       "      <td>0</td>\n",
       "      <td>3600.0</td>\n",
       "      <td>NE</td>\n",
       "      <td>35.0</td>\n",
       "      <td>0</td>\n",
       "      <td>...</td>\n",
       "      <td>NE</td>\n",
       "      <td>Kickoff</td>\n",
       "      <td>0.0</td>\n",
       "      <td>0.0</td>\n",
       "      <td>0.0</td>\n",
       "      <td>61.72</td>\n",
       "      <td>1</td>\n",
       "      <td>1</td>\n",
       "      <td>0.0</td>\n",
       "      <td>-35.0</td>\n",
       "    </tr>\n",
       "    <tr>\n",
       "      <th>1</th>\n",
       "      <td>1</td>\n",
       "      <td>1</td>\n",
       "      <td>1.0</td>\n",
       "      <td>15:00</td>\n",
       "      <td>Kickoff</td>\n",
       "      <td>0</td>\n",
       "      <td>3600.0</td>\n",
       "      <td>PIT</td>\n",
       "      <td>80.0</td>\n",
       "      <td>10</td>\n",
       "      <td>...</td>\n",
       "      <td>NE</td>\n",
       "      <td>Run</td>\n",
       "      <td>0.0</td>\n",
       "      <td>0.0</td>\n",
       "      <td>0.0</td>\n",
       "      <td>61.72</td>\n",
       "      <td>3</td>\n",
       "      <td>3</td>\n",
       "      <td>1.0</td>\n",
       "      <td>20.0</td>\n",
       "    </tr>\n",
       "    <tr>\n",
       "      <th>2</th>\n",
       "      <td>1</td>\n",
       "      <td>1</td>\n",
       "      <td>1.0</td>\n",
       "      <td>14:21</td>\n",
       "      <td>Run</td>\n",
       "      <td>0</td>\n",
       "      <td>3561.0</td>\n",
       "      <td>PIT</td>\n",
       "      <td>62.0</td>\n",
       "      <td>10</td>\n",
       "      <td>...</td>\n",
       "      <td>NE</td>\n",
       "      <td>Pass</td>\n",
       "      <td>0.0</td>\n",
       "      <td>0.0</td>\n",
       "      <td>0.0</td>\n",
       "      <td>61.72</td>\n",
       "      <td>3</td>\n",
       "      <td>3</td>\n",
       "      <td>1.0</td>\n",
       "      <td>38.0</td>\n",
       "    </tr>\n",
       "    <tr>\n",
       "      <th>3</th>\n",
       "      <td>1</td>\n",
       "      <td>1</td>\n",
       "      <td>2.0</td>\n",
       "      <td>14:04</td>\n",
       "      <td>Pass</td>\n",
       "      <td>0</td>\n",
       "      <td>3544.0</td>\n",
       "      <td>PIT</td>\n",
       "      <td>53.0</td>\n",
       "      <td>1</td>\n",
       "      <td>...</td>\n",
       "      <td>NE</td>\n",
       "      <td>Run</td>\n",
       "      <td>0.0</td>\n",
       "      <td>0.0</td>\n",
       "      <td>0.0</td>\n",
       "      <td>61.72</td>\n",
       "      <td>3</td>\n",
       "      <td>1</td>\n",
       "      <td>1.0</td>\n",
       "      <td>47.0</td>\n",
       "    </tr>\n",
       "    <tr>\n",
       "      <th>4</th>\n",
       "      <td>1</td>\n",
       "      <td>1</td>\n",
       "      <td>1.0</td>\n",
       "      <td>13:26</td>\n",
       "      <td>Run</td>\n",
       "      <td>0</td>\n",
       "      <td>3506.0</td>\n",
       "      <td>NE</td>\n",
       "      <td>49.0</td>\n",
       "      <td>10</td>\n",
       "      <td>...</td>\n",
       "      <td>NE</td>\n",
       "      <td>Pass</td>\n",
       "      <td>0.0</td>\n",
       "      <td>0.0</td>\n",
       "      <td>0.0</td>\n",
       "      <td>61.72</td>\n",
       "      <td>3</td>\n",
       "      <td>3</td>\n",
       "      <td>0.0</td>\n",
       "      <td>-49.0</td>\n",
       "    </tr>\n",
       "  </tbody>\n",
       "</table>\n",
       "<p>5 rows × 23 columns</p>\n",
       "</div>"
      ],
      "text/plain": [
       "   Drive  qtr  down   time LastPlay  LastPlayScore  TimeSecs SideofField  \\\n",
       "0      1    1   NaN  15:00     Pass              0    3600.0          NE   \n",
       "1      1    1   1.0  15:00  Kickoff              0    3600.0         PIT   \n",
       "2      1    1   1.0  14:21      Run              0    3561.0         PIT   \n",
       "3      1    1   2.0  14:04     Pass              0    3544.0         PIT   \n",
       "4      1    1   1.0  13:26      Run              0    3506.0          NE   \n",
       "\n",
       "   yrdline100  ydstogo     ...       DefensiveTeam PlayType  PosTeamScore  \\\n",
       "0        35.0        0     ...                  NE  Kickoff           0.0   \n",
       "1        80.0       10     ...                  NE      Run           0.0   \n",
       "2        62.0       10     ...                  NE     Pass           0.0   \n",
       "3        53.0        1     ...                  NE      Run           0.0   \n",
       "4        49.0       10     ...                  NE     Pass           0.0   \n",
       "\n",
       "  DefTeamScore ScoreDiff  PassRatio  FieldGoalRange  DistanceToFirst  \\\n",
       "0          0.0       0.0      61.72               1                1   \n",
       "1          0.0       0.0      61.72               3                3   \n",
       "2          0.0       0.0      61.72               3                3   \n",
       "3          0.0       0.0      61.72               3                1   \n",
       "4          0.0       0.0      61.72               3                3   \n",
       "\n",
       "   posTeamSoF  50yd_byteam  \n",
       "0         0.0        -35.0  \n",
       "1         1.0         20.0  \n",
       "2         1.0         38.0  \n",
       "3         1.0         47.0  \n",
       "4         0.0        -49.0  \n",
       "\n",
       "[5 rows x 23 columns]"
      ]
     },
     "execution_count": 15,
     "metadata": {},
     "output_type": "execute_result"
    }
   ],
   "source": [
    "data = data.loc[:, 'Drive':]\n",
    "data.head()"
   ]
  },
  {
   "cell_type": "markdown",
   "metadata": {},
   "source": [
    "## Ridge Regression Model"
   ]
  },
  {
   "cell_type": "code",
   "execution_count": null,
   "metadata": {
    "collapsed": true
   },
   "outputs": [],
   "source": [
    "num_folds = 10\n",
    "SEED = 5\n",
    "total = 0.0\n",
    "for i in range(num_folds):\n",
    "    X_train, X_test, y_train, y_test = train_test_split(X, y, test_size = 0.3, random_state = i*SEED)\n",
    "    ridge = RidgeClassifier(n_estimators = 50)\n",
    "    ridge.fit(X_train, y_train)\n",
    "    preds = ridge.predict(X_test)\n",
    "    accuracy = accuracy_score(y_test, preds)\n",
    "    \n",
    "    print(\"Accuracy for fold \", i+1, \"/\", num_folds, \":\", accuracy)\n",
    "    total = total + accuracy\n",
    "\n",
    "    \n",
    "#     confusion = confusion_matrix(y_test, preds, labels = [1, 2, 3, 4, 5, 6, 7])\n",
    "#     print(confusion)\n",
    "print(num_folds, \"- fold accuracy :\", total / num_folds)"
   ]
  },
  {
   "cell_type": "markdown",
   "metadata": {},
   "source": [
    "## KNN Model"
   ]
  },
  {
   "cell_type": "code",
   "execution_count": null,
   "metadata": {
    "collapsed": true
   },
   "outputs": [],
   "source": [
    "from sklearn.neighbors import KNeighborsClassifier\n",
    "num_folds = 10\n",
    "SEED = 5\n",
    "total = 0.0\n",
    "i  = 0\n",
    "while  i < num_folds:\n",
    "    X_train, X_test, y_train, y_test = train_test_split(X, y, test_size = 0.3, random_state = i*SEED)\n",
    "    neigh = KNeighborsClassifier(n_neighbors=1)\n",
    "    neigh.fit(X_train, y_train) \n",
    "    preds = neigh.predict(X_test)\n",
    "    accuracy = accuracy_score(y_test, preds)\n",
    "    print(\"Accuracy for fold \", i+1, \"/\", num_folds, \":\", accuracy)\n",
    "    total = total + accuracy\n",
    "    i += 1\n",
    "    \n",
    "print(num_folds, \"-fold accuracy :\", total / num_folds)"
   ]
  },
  {
   "cell_type": "markdown",
   "metadata": {},
   "source": [
    "## Multilayer Perceptron"
   ]
  },
  {
   "cell_type": "code",
   "execution_count": null,
   "metadata": {
    "collapsed": true
   },
   "outputs": [],
   "source": [
    "from sklearn.neural_network import MLPClassifier\n",
    "num_folds = 10\n",
    "SEED = 5\n",
    "total = 0.0\n",
    "i  = 0\n",
    "while  i < num_folds:\n",
    "    X_train, X_test, y_train, y_test = train_test_split(X, y, test_size = 0.3, random_state = i*SEED)\n",
    "    mlp = MLPClassifier()\n",
    "    mlp.fit(X_train, y_train) \n",
    "    preds = mlp.predict(X_test)\n",
    "    accuracy = accuracy_score(y_test, preds)\n",
    "    print(\"Accuracy for fold \", i+1, \"/\", num_folds, \":\", accuracy)\n",
    "    total = total + accuracy\n",
    "    i += 1\n",
    "    \n",
    "print(num_folds, \"-fold accuracy :\", total / num_folds)"
   ]
  },
  {
   "cell_type": "markdown",
   "metadata": {},
   "source": [
    "## Random Forest"
   ]
  },
  {
   "cell_type": "code",
   "execution_count": 16,
   "metadata": {
    "collapsed": false
   },
   "outputs": [],
   "source": [
    "X = data.drop(['PlayType', 'time'], axis = 1)\n",
    "y = data['PlayType']"
   ]
  },
  {
   "cell_type": "code",
   "execution_count": 17,
   "metadata": {
    "collapsed": true
   },
   "outputs": [],
   "source": [
    "dum1 = pd.get_dummies(X[['LastPlay', 'SideofField', 'posteam', 'DefensiveTeam']])\n",
    "X = X.drop(['LastPlay', 'SideofField', 'posteam', 'DefensiveTeam'], axis=1)\n",
    "X = pd.concat([X, dum1], axis = 1)"
   ]
  },
  {
   "cell_type": "code",
   "execution_count": 18,
   "metadata": {
    "collapsed": false,
    "scrolled": true
   },
   "outputs": [],
   "source": [
    "y = y.replace(to_replace = ['Run', 'Pass', 'Punt', 'Field Goal', 'QB Kneel', 'Kickoff', 'Onside Kick'],\n",
    "         value = [1, 2, 3, 4, 5, 6, 7])"
   ]
  },
  {
   "cell_type": "code",
   "execution_count": 19,
   "metadata": {
    "collapsed": false
   },
   "outputs": [],
   "source": [
    "X['down'].fillna(round(X.down.mean()), inplace = True)"
   ]
  },
  {
   "cell_type": "code",
   "execution_count": null,
   "metadata": {
    "collapsed": false
   },
   "outputs": [],
   "source": [
    "num_folds = 10\n",
    "SEED = 5\n",
    "total = 0.0\n",
    "for i in range(num_folds):\n",
    "    X_train, X_test, y_train, y_test = train_test_split(X, y, test_size = 0.3, random_state = i*SEED)\n",
    "    rf = RandomForestClassifier(n_estimators = 50)\n",
    "    rf.fit(X_train, y_train)\n",
    "    preds = rf.predict(X_test)\n",
    "    accuracy = accuracy_score(y_test, preds)\n",
    "    \n",
    "    print(\"Accuracy for fold \", i+1, \"/\", num_folds, \":\", accuracy)\n",
    "    total = total + accuracy\n",
    "\n",
    "    \n",
    "#     confusion = confusion_matrix(y_test, preds, labels = [1, 2, 3, 4, 5, 6, 7])\n",
    "#     print(confusion)\n",
    "print(num_folds, \"- fold accuracy :\", total / num_folds)"
   ]
  },
  {
   "cell_type": "code",
   "execution_count": 25,
   "metadata": {
    "collapsed": false
   },
   "outputs": [
    {
     "data": {
      "text/plain": [
       "<matplotlib.axes._subplots.AxesSubplot at 0x1b0e6718240>"
      ]
     },
     "execution_count": 25,
     "metadata": {},
     "output_type": "execute_result"
    },
    {
     "data": {
      "image/png": "[encoded data removed]",
      "text/plain": [
       "<matplotlib.figure.Figure at 0x1b0e672c908>"
      ]
     },
     "metadata": {},
     "output_type": "display_data"
    }
   ],
   "source": [
    "import seaborn as sn\n",
    "import pandas as pd\n",
    "import matplotlib.pyplot as plt\n",
    "array = cm.astype(int)\n",
    "pla = [\"Run\", \"Pass\", \"Punt\",\"Field Goal\", \"QB Kneel\", \"Kickoff\", \"Onside Kick\"]\n",
    "df_cm = pd.DataFrame(array, index = [i for i in pla],\n",
    "                  columns = [i for i in pla])\n",
    "plt.figure(figsize = (10,7))\n",
    "sn.heatmap(df_cm, annot=True,cmap='Blues', fmt='g')"
   ]
  },
  {
   "cell_type": "code",
   "execution_count": 10,
   "metadata": {
    "collapsed": false
   },
   "outputs": [
    {
     "name": "stderr",
     "output_type": "stream",
     "text": [
      "C:\\Users\\Aditya Kharosekar\\Anaconda3\\lib\\site-packages\\ipykernel\\__main__.py:7: FutureWarning: sort(columns=....) is deprecated, use sort_values(by=.....)\n"
     ]
    },
    {
     "data": {
      "text/plain": [
       "<matplotlib.axes._subplots.AxesSubplot at 0x1fbd722d550>"
      ]
     },
     "execution_count": 10,
     "metadata": {},
     "output_type": "execute_result"
    },
    {
     "data": {
      "image/png": "[encoded data removed]",
      "text/plain": [
       "<matplotlib.figure.Figure at 0x1fbd739b940>"
      ]
     },
     "metadata": {},
     "output_type": "display_data"
    }
   ],
   "source": [
    "ft_imp = []\n",
    "for index, value in enumerate(rf.feature_importances_):\n",
    "    ft_imp.append([X.columns[index], value])\n",
    "\n",
    "num_features = 10\n",
    "ft_imp = pd.DataFrame(ft_imp)\n",
    "ft_imp.sort(columns = 1, inplace = True, ascending = False)\n",
    "ft_imp.head(num_features).plot(x=ft_imp.head(num_features)[0], kind='barh')"
   ]
  },
  {
   "cell_type": "markdown",
   "metadata": {},
   "source": [
    "## XGBoost Model"
   ]
  },
  {
   "cell_type": "code",
   "execution_count": null,
   "metadata": {
    "collapsed": true
   },
   "outputs": [],
   "source": [
    "num_folds = 10\n",
    "SEED = 5\n",
    "total = 0.0\n",
    "for i in range(num_folds):\n",
    "    X_train, X_test, y_train, y_test = train_test_split(X, y, test_size = 0.3, random_state = i*SEED)\n",
    "    xgb = xgboost.XGBClassifier(n_estimators = 50)\n",
    "    xgb.fit(X_train, y_train)\n",
    "    preds = xgb.predict(X_test)\n",
    "    accuracy = accuracy_score(y_test, preds)\n",
    "    \n",
    "    print(\"Accuracy for fold \", i+1, \"/\", num_folds, \":\", accuracy)\n",
    "    total = total + accuracy\n",
    "\n",
    "    \n",
    "#     confusion = confusion_matrix(y_test, preds, labels = [1, 2, 3, 4, 5, 6, 7])\n",
    "#     print(confusion)\n",
    "print(num_folds, \"- fold accuracy :\", total / num_folds)"
   ]
  },
  {
   "cell_type": "code",
   "execution_count": null,
   "metadata": {
    "collapsed": true
   },
   "outputs": [],
   "source": [
    "ft_imp = []\n",
    "for index, value in enumerate(xgb.feature_importances_):\n",
    "    ft_imp.append([X.columns[index], value])\n",
    "\n",
    "num_features = 10\n",
    "ft_imp = pd.DataFrame(ft_imp)\n",
    "ft_imp.sort(columns = 1, inplace = True, ascending = False)\n",
    "ft_imp.head(num_features).plot(x=ft_imp.head(num_features)[0], kind='barh')"
   ]
  },
  {
   "cell_type": "markdown",
   "metadata": {},
   "source": [
    "## Computing correlation between different models to pick models to stack"
   ]
  },
  {
   "cell_type": "code",
   "execution_count": 15,
   "metadata": {
    "collapsed": false
   },
   "outputs": [
    {
     "data": {
      "text/plain": [
       "LinregressResult(slope=0.94099611267244976, intercept=0.13995189004677178, rvalue=0.92126989355443012, pvalue=0.0, stderr=0.0040187968365452088)"
      ]
     },
     "execution_count": 15,
     "metadata": {},
     "output_type": "execute_result"
    }
   ],
   "source": [
    "from scipy.stats import linregress\n",
    "X_train, X_test, y_train, y_test = train_test_split(X, y)\n",
    "rf = RandomForestClassifier(n_estimators = 50)\n",
    "rf.fit(X_train, y_train)\n",
    "rfpreds = rf.predict(X_test)\n",
    "\n",
    "xgb = xgboost.XGBClassifier()\n",
    "xgb.fit(X_train, y_train)\n",
    "xgpreds = xgb.predict(X_test)\n",
    "\n",
    "linregress(rfpreds, xgpreds)"
   ]
  },
  {
   "cell_type": "markdown",
   "metadata": {},
   "source": [
    "The Random Forest and XGBoost models are very correlated (The correlation coefficient is 0.92). No point trying to ensemble them"
   ]
  },
  {
   "cell_type": "code",
   "execution_count": 17,
   "metadata": {
    "collapsed": false
   },
   "outputs": [
    {
     "data": {
      "text/plain": [
       "LinregressResult(slope=0.65008968465472594, intercept=0.67471547475791094, rvalue=0.73804301402285155, pvalue=0.0, stderr=0.0060126697023211509)"
      ]
     },
     "execution_count": 17,
     "metadata": {},
     "output_type": "execute_result"
    }
   ],
   "source": [
    "from scipy.stats import linregress\n",
    "X_train, X_test, y_train, y_test = train_test_split(X, y)\n",
    "rf = RandomForestClassifier(n_estimators = 50)\n",
    "rf.fit(X_train, y_train)\n",
    "rfpreds = rf.predict(X_test)\n",
    "\n",
    "ridge = RidgeClassifier()\n",
    "ridge.fit(X_train, y_train)\n",
    "ridgepreds = ridge.predict(X_test)\n",
    "\n",
    "linregress(rfpreds, ridgepreds)"
   ]
  },
  {
   "cell_type": "markdown",
   "metadata": {},
   "source": [
    "Correlation coefficient between the Random Forest and the Ridge Regression model = 0.74"
   ]
  },
  {
   "cell_type": "code",
   "execution_count": 18,
   "metadata": {
    "collapsed": false
   },
   "outputs": [
    {
     "data": {
      "text/plain": [
       "LinregressResult(slope=0.85913676264577177, intercept=0.36454075948176445, rvalue=0.73585812373850756, pvalue=0.0, stderr=0.007997872011335538)"
      ]
     },
     "execution_count": 18,
     "metadata": {},
     "output_type": "execute_result"
    }
   ],
   "source": [
    "from scipy.stats import linregress\n",
    "X_train, X_test, y_train, y_test = train_test_split(X, y)\n",
    "ridge = RidgeClassifier()\n",
    "ridge.fit(X_train, y_train)\n",
    "ridgepreds = ridge.predict(X_test)\n",
    "\n",
    "xgb = xgboost.XGBClassifier()\n",
    "xgb.fit(X_train, y_train)\n",
    "xgpreds = xgb.predict(X_test)\n",
    "\n",
    "linregress(ridgepreds, xgpreds)"
   ]
  },
  {
   "cell_type": "markdown",
   "metadata": {},
   "source": [
    "## Trying to stack the Ridge Regression Model and the XGBoost model"
   ]
  },
  {
   "cell_type": "code",
   "execution_count": 11,
   "metadata": {
    "collapsed": false
   },
   "outputs": [
    {
     "ename": "NameError",
     "evalue": "name 'xgpreds' is not defined",
     "output_type": "error",
     "traceback": [
      "\u001b[0;31m---------------------------------------------------------------------------\u001b[0m",
      "\u001b[0;31mNameError\u001b[0m                                 Traceback (most recent call last)",
      "\u001b[0;32m<ipython-input-11-d4fa60067e7d>\u001b[0m in \u001b[0;36m<module>\u001b[0;34m()\u001b[0m\n\u001b[0;32m----> 1\u001b[0;31m \u001b[0mfinalpreds\u001b[0m \u001b[1;33m=\u001b[0m \u001b[1;33m(\u001b[0m\u001b[1;36m1\u001b[0m\u001b[1;33m*\u001b[0m\u001b[0mxgpreds\u001b[0m \u001b[1;33m+\u001b[0m \u001b[1;36m0.0\u001b[0m\u001b[1;33m*\u001b[0m\u001b[0mridgepreds\u001b[0m\u001b[1;33m)\u001b[0m\u001b[1;33m\u001b[0m\u001b[0m\n\u001b[0m\u001b[1;32m      2\u001b[0m \u001b[0mfinalpreds\u001b[0m \u001b[1;33m=\u001b[0m \u001b[1;33m[\u001b[0m\u001b[0mround\u001b[0m\u001b[1;33m(\u001b[0m\u001b[0mpred\u001b[0m\u001b[1;33m)\u001b[0m \u001b[1;32mfor\u001b[0m \u001b[0mpred\u001b[0m \u001b[1;32min\u001b[0m \u001b[0mfinalpreds\u001b[0m\u001b[1;33m]\u001b[0m\u001b[1;33m\u001b[0m\u001b[0m\n\u001b[1;32m      3\u001b[0m \u001b[0maccuracy_score\u001b[0m\u001b[1;33m(\u001b[0m\u001b[0my_test\u001b[0m\u001b[1;33m,\u001b[0m \u001b[0mfinalpreds\u001b[0m\u001b[1;33m)\u001b[0m\u001b[1;33m\u001b[0m\u001b[0m\n",
      "\u001b[0;31mNameError\u001b[0m: name 'xgpreds' is not defined"
     ]
    }
   ],
   "source": [
    "finalpreds = (1*xgpreds + 0.0*ridgepreds)\n",
    "finalpreds = [round(pred) for pred in finalpreds]\n",
    "accuracy_score(y_test, finalpreds)"
   ]
  },
  {
   "cell_type": "markdown",
   "metadata": {},
   "source": [
    "## Trying PCA on Random Forest"
   ]
  },
  {
   "cell_type": "code",
   "execution_count": 9,
   "metadata": {
    "collapsed": false
   },
   "outputs": [
    {
     "name": "stdout",
     "output_type": "stream",
     "text": [
      "Accuracy for fold  1 / 10 : 0.68713225889\n",
      "Accuracy for fold  2 / 10 : 0.690713737529\n",
      "Accuracy for fold  3 / 10 : 0.689349364714\n",
      "Accuracy for fold  4 / 10 : 0.690202097723\n",
      "Accuracy for fold  5 / 10 : 0.689264091413\n",
      "Accuracy for fold  6 / 10 : 0.691822290441\n",
      "Accuracy for fold  7 / 10 : 0.693271936557\n",
      "Accuracy for fold  8 / 10 : 0.688496631705\n",
      "Accuracy for fold  9 / 10 : 0.688837724908\n",
      "Accuracy for fold  10 / 10 : 0.697023961798\n",
      "10 - fold accuracy : 0.690611409568\n"
     ]
    }
   ],
   "source": [
    "num_folds = 10\n",
    "SEED = 5\n",
    "total = 0.0\n",
    "pca = PCA(n_components = 100)\n",
    "X = pca.fit_transform(X)\n",
    "for i in range(num_folds):\n",
    "    X_train, X_test, y_train, y_test = train_test_split(X, y, test_size = 0.3, random_state = i*SEED)\n",
    "    rf = RandomForestClassifier(n_estimators = 50)\n",
    "    rf.fit(X_train, y_train)\n",
    "    preds = rf.predict(X_test)\n",
    "    accuracy = accuracy_score(y_test, preds)\n",
    "    \n",
    "    print(\"Accuracy for fold \", i+1, \"/\", num_folds, \":\", accuracy)\n",
    "    total = total + accuracy\n",
    "\n",
    "    \n",
    "#     confusion = confusion_matrix(y_test, preds, labels = [1, 2, 3, 4, 5, 6, 7])\n",
    "#     print(confusion)\n",
    "print(num_folds, \"- fold accuracy :\", total / num_folds)"
   ]
  },
  {
   "cell_type": "markdown",
   "metadata": {},
   "source": [
    "** Doing PCA with 50 dimensions got average accuracy of 0.705 **"
   ]
  },
  {
   "cell_type": "markdown",
   "metadata": {},
   "source": [
    "** Doing PCA with 100 dimensions got average accuracy of 0.69 **"
   ]
  },
  {
   "cell_type": "markdown",
   "metadata": {},
   "source": [
    "## Trying PCA on XGBoost models"
   ]
  },
  {
   "cell_type": "code",
   "execution_count": 11,
   "metadata": {
    "collapsed": false
   },
   "outputs": [
    {
     "name": "stdout",
     "output_type": "stream",
     "text": [
      "Accuracy for fold  1 / 10 : 0.71655154771\n",
      "Accuracy for fold  2 / 10 : 0.721838492368\n",
      "Accuracy for fold  3 / 10 : 0.723117591882\n",
      "Accuracy for fold  4 / 10 : 0.722605952076\n",
      "Accuracy for fold  5 / 10 : 0.72388505159\n",
      "Accuracy for fold  6 / 10 : 0.717915920525\n",
      "Accuracy for fold  7 / 10 : 0.72755180353\n",
      "Accuracy for fold  8 / 10 : 0.721923765669\n",
      "Accuracy for fold  9 / 10 : 0.719962479748\n",
      "Accuracy for fold  10 / 10 : 0.723629231688\n",
      "10 - fold accuracy : 0.721898183679\n"
     ]
    }
   ],
   "source": [
    "num_folds = 10\n",
    "SEED = 5\n",
    "total = 0.0\n",
    "pca = PCA(n_components = 50)\n",
    "X = pca.fit_transform(X)\n",
    "for i in range(num_folds):\n",
    "    X_train, X_test, y_train, y_test = train_test_split(X, y, test_size = 0.3, random_state = i*SEED)\n",
    "    xg = xgboost.XGBClassifier()\n",
    "    xg.fit(X_train, y_train)\n",
    "    preds = xg.predict(X_test)\n",
    "    accuracy = accuracy_score(y_test, preds)\n",
    "    \n",
    "    print(\"Accuracy for fold \", i+1, \"/\", num_folds, \":\", accuracy)\n",
    "    total = total + accuracy\n",
    "\n",
    "    \n",
    "#     confusion = confusion_matrix(y_test, preds, labels = [1, 2, 3, 4, 5, 6, 7])\n",
    "#     print(confusion)\n",
    "print(num_folds, \"- fold accuracy :\", total / num_folds)"
   ]
  },
  {
   "cell_type": "markdown",
   "metadata": {},
   "source": [
    "** PCA on XGBoost model with 100 dimensions has accuracy of 0.723 **"
   ]
  },
  {
   "cell_type": "markdown",
   "metadata": {},
   "source": [
    "** PCA on XGBoost model with 50 dimensions - 0.722 **"
   ]
  },
  {
   "cell_type": "code",
   "execution_count": null,
   "metadata": {
    "collapsed": true
   },
   "outputs": [],
   "source": []
  }
 ],
 "metadata": {
  "anaconda-cloud": {},
  "kernelspec": {
   "display_name": "Python [default]",
   "language": "python",
   "name": "python3"
  },
  "language_info": {
   "codemirror_mode": {
    "name": "ipython",
    "version": 3
   },
   "file_extension": ".py",
   "mimetype": "text/x-python",
   "name": "python",
   "nbconvert_exporter": "python",
   "pygments_lexer": "ipython3",
   "version": "3.5.2"
  }
 },
 "nbformat": 4,
 "nbformat_minor": 1
}
